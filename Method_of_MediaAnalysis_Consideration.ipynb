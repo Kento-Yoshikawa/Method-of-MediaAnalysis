{
 "cells": [
  {
   "cell_type": "code",
   "execution_count": 1,
   "metadata": {
    "collapsed": false
   },
   "outputs": [
    {
     "name": "stdout",
     "output_type": "stream",
     "text": [
      "吉田沙保里のイメージと出演するCMに関する相関の検定結果(かっこいい)"
     ]
    },
    {
     "data": {
      "text/plain": [
       "\n",
       "\tPearson's product-moment correlation\n",
       "\n",
       "data:  coolY and coolY_CM\n",
       "t = 10.995, df = 16, p-value = 3.614e-09\n",
       "alternative hypothesis: true correlation is greater than 0\n",
       "95 percent confidence interval:\n",
       " 0.8645652 1.0000000\n",
       "sample estimates:\n",
       "     cor \n",
       "0.939743 \n"
      ]
     },
     "metadata": {},
     "output_type": "display_data"
    },
    {
     "name": "stdout",
     "output_type": "stream",
     "text": [
      "吉田沙保里のイメージと出演するCMに関する相関の検定結果(かわいい)"
     ]
    },
    {
     "data": {
      "text/plain": [
       "\n",
       "\tPearson's product-moment correlation\n",
       "\n",
       "data:  cuteY and cuteY_CM\n",
       "t = 8.2483, df = 16, p-value = 1.861e-07\n",
       "alternative hypothesis: true correlation is greater than 0\n",
       "95 percent confidence interval:\n",
       " 0.7803857 1.0000000\n",
       "sample estimates:\n",
       "      cor \n",
       "0.8997786 \n"
      ]
     },
     "metadata": {},
     "output_type": "display_data"
    },
    {
     "name": "stdout",
     "output_type": "stream",
     "text": [
      "吉田沙保里のイメージと出演するCMに関する相関の検定結果(親しみやすい)"
     ]
    },
    {
     "data": {
      "text/plain": [
       "\n",
       "\tPearson's product-moment correlation\n",
       "\n",
       "data:  intimateY and intimateY_CM\n",
       "t = 6.2568, df = 16, p-value = 5.726e-06\n",
       "alternative hypothesis: true correlation is greater than 0\n",
       "95 percent confidence interval:\n",
       " 0.6669097 1.0000000\n",
       "sample estimates:\n",
       "      cor \n",
       "0.8425375 \n"
      ]
     },
     "metadata": {},
     "output_type": "display_data"
    },
    {
     "name": "stdout",
     "output_type": "stream",
     "text": [
      "吉田沙保里のイメージと出演するCMに関する相関の検定結果(おもしろい)"
     ]
    },
    {
     "data": {
      "text/plain": [
       "\n",
       "\tPearson's product-moment correlation\n",
       "\n",
       "data:  interestingY and interestingY_CM\n",
       "t = 5.7815, df = 16, p-value = 1.404e-05\n",
       "alternative hypothesis: true correlation is greater than 0\n",
       "95 percent confidence interval:\n",
       " 0.6287696 1.0000000\n",
       "sample estimates:\n",
       "      cor \n",
       "0.8223644 \n"
      ]
     },
     "metadata": {},
     "output_type": "display_data"
    },
    {
     "name": "stdout",
     "output_type": "stream",
     "text": [
      "吉田沙保里のイメージと出演するCMに関する相関の検定結果(たくましい)"
     ]
    },
    {
     "data": {
      "text/plain": [
       "\n",
       "\tPearson's product-moment correlation\n",
       "\n",
       "data:  robustY and robustY_CM\n",
       "t = 5.7086, df = 16, p-value = 1.616e-05\n",
       "alternative hypothesis: true correlation is greater than 0\n",
       "95 percent confidence interval:\n",
       " 0.6224296 1.0000000\n",
       "sample estimates:\n",
       "      cor \n",
       "0.8189632 \n"
      ]
     },
     "metadata": {},
     "output_type": "display_data"
    }
   ],
   "source": [
    "#考察用\n",
    "#吉田沙保里のイメージと彼女の出演する\n",
    "#「ポケットモンスター サン・ムーン」のCMのイメージの相関を調べる\n",
    "\n",
    "#かっこいい\n",
    "coolY <- c(3,3,3,2,2,2,2,2,2,2,2,2,2,1,1,0,-1,-3)#吉田沙保里のかっこいいのイメージに関するデータ\n",
    "coolY_CM <- c(3,2,2,2,2,2,2,2,1,1,1,1,1,0,0,0,-1,-3)#吉田沙保里の出演するCMのイメージのかっこいいに関するデータ\n",
    "\n",
    "cat(\"吉田沙保里のイメージと出演するCMに関する相関の検定結果(かっこいい)\")\n",
    "#かっこいいというイメージに対しピアソンの積率相関係数の相関があるか否かに関する片側検定を行う\n",
    "cor.test(coolY, coolY_CM, method=\"pearson\",alternative=\"greater\") \n",
    "\n",
    "#かわいい\n",
    "cuteY <- c(1,1,1,0,0,0,0,-1,-1,-1,-1,-1,-1,-1,-2,-2,-3,-3)#吉田沙保里のかわいいのイメージに関するデータ\n",
    "cuteY_CM <- c(0,0,0,0,0,-1,-1,-1,-1,-1,-1,-1,-1,-2,-2,-2,-2,-3)#吉田沙保里の出演するCMのイメージのかわいいに関するデータ\n",
    "\n",
    "cat(\"吉田沙保里のイメージと出演するCMに関する相関の検定結果(かわいい)\")\n",
    "#かわいいというイメージに対しピアソンの積率相関係数の相関があるか否かに関する片側検定を行う\n",
    "cor.test(cuteY, cuteY_CM, method=\"pearson\",alternative=\"greater\") \n",
    "\n",
    "\n",
    "#親しみやすい\n",
    "intimateY <- c(3,2,1,1,1,1,1,1,1,1,1,0,0,0,0,0,0,-1)#吉田沙保里の親しみやすいのイメージに関するデータ\n",
    "intimateY_CM <- c(3,2,2,2,2,1,1,1,1,1,1,1,1,0,0,0,-1,-3)#吉田沙保里の出演するCMのイメージの親しみやすいに関するデータ\n",
    "\n",
    "cat(\"吉田沙保里のイメージと出演するCMに関する相関の検定結果(親しみやすい)\")\n",
    "#親しみやすいというイメージに対しピアソンの積率相関係数の相関があるか否かに関する片側検定を行う\n",
    "cor.test(intimateY, intimateY_CM, method=\"pearson\",alternative=\"greater\") \n",
    "\n",
    "\n",
    "\n",
    "#おもしろい\n",
    "interestingY <- c(2,1,1,0,0,0,0,0,0,0,0,-1,-1,-1,-1,-1,-1,-2)#吉田沙保里のおもしろいのイメージに関するデータ\n",
    "interestingY_CM <- c(3,3,3,2,2,2,2,2,2,2,1,1,1,1,1,0,-2,-3)#吉田沙保里の出演するCMのイメージのおもしろいに関するデータ\n",
    "\n",
    "cat(\"吉田沙保里のイメージと出演するCMに関する相関の検定結果(おもしろい)\")\n",
    "#おもしろいというイメージに対しピアソンの積率相関係数の相関があるか否かに関する片側検定を行う\n",
    "cor.test(interestingY, interestingY_CM, method=\"pearson\",alternative=\"greater\") \n",
    "\n",
    "\n",
    "#たくましい\n",
    "robustY <- c(3,3,3,3,3,3,3,3,3,3,3,3,3,3,2,2,2,-3)#吉田沙保里のたくましいのイメージに関するデータ\n",
    "robustY_CM <- c(3,3,3,3,3,3,3,2,2,2,2,2,2,2,2,1,-2,-3)#吉田沙保里の出演するCMのイメージのたくましいに関するデータ\n",
    "\n",
    "cat(\"吉田沙保里のイメージと出演するCMに関する相関の検定結果(たくましい)\")\n",
    "#たくましいというイメージに対しピアソンの積率相関係数の相関があるか否かに関する片側検定を行う\n",
    "cor.test(robustY, robustY_CM, method=\"pearson\",alternative=\"greater\") "
   ]
  },
  {
   "cell_type": "code",
   "execution_count": 2,
   "metadata": {
    "collapsed": false
   },
   "outputs": [
    {
     "name": "stdout",
     "output_type": "stream",
     "text": [
      "イモトアヤコのイメージと出演するCMに関する相関の検定結果(かっこいい)"
     ]
    },
    {
     "data": {
      "text/plain": [
       "\n",
       "\tPearson's product-moment correlation\n",
       "\n",
       "data:  coolI and coolI_CM\n",
       "t = 10.601, df = 16, p-value = 6.058e-09\n",
       "alternative hypothesis: true correlation is greater than 0\n",
       "95 percent confidence interval:\n",
       " 0.8556755 1.0000000\n",
       "sample estimates:\n",
       "      cor \n",
       "0.9356174 \n"
      ]
     },
     "metadata": {},
     "output_type": "display_data"
    },
    {
     "name": "stdout",
     "output_type": "stream",
     "text": [
      "イモトアヤコのイメージと出演するCMに関する相関の検定結果(かわいい)"
     ]
    },
    {
     "data": {
      "text/plain": [
       "\n",
       "\tPearson's product-moment correlation\n",
       "\n",
       "data:  cuteI and cuteI_CM\n",
       "t = 5.4776, df = 16, p-value = 2.531e-05\n",
       "alternative hypothesis: true correlation is greater than 0\n",
       "95 percent confidence interval:\n",
       " 0.6014161 1.0000000\n",
       "sample estimates:\n",
       "      cor \n",
       "0.8075906 \n"
      ]
     },
     "metadata": {},
     "output_type": "display_data"
    },
    {
     "name": "stdout",
     "output_type": "stream",
     "text": [
      "イモトアヤコのイメージと出演するCMに関する相関の検定結果(親しみやすい)"
     ]
    },
    {
     "data": {
      "text/plain": [
       "\n",
       "\tPearson's product-moment correlation\n",
       "\n",
       "data:  intimateI and intimateI_CM\n",
       "t = 10.035, df = 16, p-value = 1.309e-08\n",
       "alternative hypothesis: true correlation is greater than 0\n",
       "95 percent confidence interval:\n",
       " 0.8413417 1.0000000\n",
       "sample estimates:\n",
       "      cor \n",
       "0.9289191 \n"
      ]
     },
     "metadata": {},
     "output_type": "display_data"
    },
    {
     "name": "stdout",
     "output_type": "stream",
     "text": [
      "イモトアヤコのイメージと出演するCMに関する相関の検定結果(おもしろい)"
     ]
    },
    {
     "data": {
      "text/plain": [
       "\n",
       "\tPearson's product-moment correlation\n",
       "\n",
       "data:  interestingI and interestingI_CM\n",
       "t = 13.442, df = 16, p-value = 1.955e-10\n",
       "alternative hypothesis: true correlation is greater than 0\n",
       "95 percent confidence interval:\n",
       " 0.9055054 1.0000000\n",
       "sample estimates:\n",
       "      cor \n",
       "0.9584642 \n"
      ]
     },
     "metadata": {},
     "output_type": "display_data"
    },
    {
     "name": "stdout",
     "output_type": "stream",
     "text": [
      "イモトアヤコのイメージと出演するCMに関する相関の検定結果(たくましい)"
     ]
    },
    {
     "data": {
      "text/plain": [
       "\n",
       "\tPearson's product-moment correlation\n",
       "\n",
       "data:  robustI and robustI_CM\n",
       "t = 8.0326, df = 16, p-value = 2.63e-07\n",
       "alternative hypothesis: true correlation is greater than 0\n",
       "95 percent confidence interval:\n",
       " 0.770912 1.000000\n",
       "sample estimates:\n",
       "     cor \n",
       "0.895152 \n"
      ]
     },
     "metadata": {},
     "output_type": "display_data"
    }
   ],
   "source": [
    "#考察用\n",
    "#イモトアヤコのイメージと彼女の出演する\n",
    "#「ポケットモンスター サン・ムーン」のCMのイメージの相関を調べる\n",
    "\n",
    "#かっこいい\n",
    "coolI <-c(3,3,2,1,1,0,0,0,0,-1,-1,-1,-1,-1,-1,-1,-1,-2)#イモトアヤコのかっこいいのイメージに関するデータ\n",
    "coolI_CM <- c(2,1,1,0,0,0,0,0,0,-1,-1,-1,-1,-1,-1,-1,-2,-2)#イモトアヤコの出演するCMのイメージのかっこいいに関するデータ\n",
    "\n",
    "cat(\"イモトアヤコのイメージと出演するCMに関する相関の検定結果(かっこいい)\")\n",
    "#かっこいいというイメージに対しピアソンの積率相関係数の相関があるか否かに関する片側検定を行う\n",
    "cor.test(coolI, coolI_CM, method=\"pearson\",alternative=\"greater\") \n",
    "\n",
    "#かわいい\n",
    "cuteI <- c(1,1,1,1,1,1,0,0,0,0,0,-1,-1,-1,-1,-2,-2,-2)#イモトアヤコのかわいいのイメージに関するデータ\n",
    "cuteI_CM <- c(2,1,0,0,0,0,0,0,-1,-1,-1,-1,-1,-1,-1,-1,-2,-3) #イモトアヤコの出演するCMのイメージのかわいいに関するデータ\n",
    "\n",
    "cat(\"イモトアヤコのイメージと出演するCMに関する相関の検定結果(かわいい)\")\n",
    "#かわいいというイメージに対しピアソンの積率相関係数の相関があるか否かに関する片側検定を行う\n",
    "cor.test(cuteI, cuteI_CM, method=\"pearson\",alternative=\"greater\") \n",
    "\n",
    "\n",
    "#親しみやすい\n",
    "intimateI <-  c(3,3,2,2,2,2,2,2,2,2,2,1,1,1,1,1,-2,-3)#イモトアヤコの親しみやすいのイメージに関するデータ\n",
    "intimateI_CM <- c(3,2,2,2,2,2,2,2,2,2,2,2,1,1,1,1,0,-3)#イモトアヤコの出演するCMのイメージの親しみやすいに関するデータ\n",
    "\n",
    "cat(\"イモトアヤコのイメージと出演するCMに関する相関の検定結果(親しみやすい)\")\n",
    "#親しみやすいというイメージに対しピアソンの積率相関係数の相関があるか否かに関する片側検定を行う\n",
    "cor.test(intimateI, intimateI_CM, method=\"pearson\",alternative=\"greater\") \n",
    "\n",
    "\n",
    "#おもしろい\n",
    "interestingI <- c(3,3,2,2,2,2,2,2,1,1,1,1,1,1,1,1,0,-3)#イモトアヤコのおもしろいのイメージに関するデータ\n",
    "interestingI_CM <- c(3,3,2,2,2,2,2,2,2,2,2,1,1,1,1,1,0,-3)#イモトアヤコの出演するCMのイメージのおもしろいに関するデータ\n",
    "\n",
    "cat(\"イモトアヤコのイメージと出演するCMに関する相関の検定結果(おもしろい)\")\n",
    "#おもしろいというイメージに対しピアソンの積率相関係数の相関があるか否かに関する片側検定を行う\n",
    "cor.test(interestingI, interestingI_CM, method=\"pearson\",alternative=\"greater\") \n",
    "\n",
    "\n",
    "#たくましい\n",
    "robustI <- c(3,3,3,2,2,2,2,2,1,1,1,1,0,0,0,0,-1,-2)#イモトアヤコのたくましいのイメージに関するデータ\n",
    "robustI_CM <-  c(2,1,0,0,0,0,0,0,0,0,0,0,-1,-1,-1,-1,-2,-2)#イモトアヤコの出演するCMのイメージのたくましいに関するデータ\n",
    "\n",
    "cat(\"イモトアヤコのイメージと出演するCMに関する相関の検定結果(たくましい)\")\n",
    "#たくましいというイメージに対しピアソンの積率相関係数の相関があるか否かに関する片側検定を行う\n",
    "cor.test(robustI, robustI_CM, method=\"pearson\",alternative=\"greater\") \n",
    "\n"
   ]
  },
  {
   "cell_type": "code",
   "execution_count": 3,
   "metadata": {
    "collapsed": false
   },
   "outputs": [
    {
     "name": "stdout",
     "output_type": "stream",
     "text": [
      "田中将大のイメージと出演するCMに関する相関の検定結果(かっこいい)"
     ]
    },
    {
     "data": {
      "text/plain": [
       "\n",
       "\tPearson's product-moment correlation\n",
       "\n",
       "data:  coolT and coolT_CM\n",
       "t = 4.7951, df = 11, p-value = 0.0002788\n",
       "alternative hypothesis: true correlation is greater than 0\n",
       "95 percent confidence interval:\n",
       " 0.5677267 1.0000000\n",
       "sample estimates:\n",
       "      cor \n",
       "0.8224396 \n"
      ]
     },
     "metadata": {},
     "output_type": "display_data"
    },
    {
     "name": "stdout",
     "output_type": "stream",
     "text": [
      "田中将大のイメージと出演するCMに関する相関の検定結果(かわいい)"
     ]
    },
    {
     "data": {
      "text/plain": [
       "\n",
       "\tPearson's product-moment correlation\n",
       "\n",
       "data:  cuteT and cuteT_CM\n",
       "t = 6.9041, df = 11, p-value = 1.287e-05\n",
       "alternative hypothesis: true correlation is greater than 0\n",
       "95 percent confidence interval:\n",
       " 0.7440198 1.0000000\n",
       "sample estimates:\n",
       "      cor \n",
       "0.9013878 \n"
      ]
     },
     "metadata": {},
     "output_type": "display_data"
    },
    {
     "name": "stdout",
     "output_type": "stream",
     "text": [
      "田中将大のイメージと出演するCMに関する相関の検定結果(親しみやすい)"
     ]
    },
    {
     "data": {
      "text/plain": [
       "\n",
       "\tPearson's product-moment correlation\n",
       "\n",
       "data:  intimateT and intimateT_CM\n",
       "t = 6.2803, df = 11, p-value = 3e-05\n",
       "alternative hypothesis: true correlation is greater than 0\n",
       "95 percent confidence interval:\n",
       " 0.7038306 1.0000000\n",
       "sample estimates:\n",
       "     cor \n",
       "0.884266 \n"
      ]
     },
     "metadata": {},
     "output_type": "display_data"
    },
    {
     "name": "stdout",
     "output_type": "stream",
     "text": [
      "田中将大のイメージと出演するCMに関する相関の検定結果(おもしろい)"
     ]
    },
    {
     "data": {
      "text/plain": [
       "\n",
       "\tPearson's product-moment correlation\n",
       "\n",
       "data:  interestingT and interestingT_CM\n",
       "t = 5.5022, df = 11, p-value = 9.281e-05\n",
       "alternative hypothesis: true correlation is greater than 0\n",
       "95 percent confidence interval:\n",
       " 0.6408922 1.0000000\n",
       "sample estimates:\n",
       "      cor \n",
       "0.8564409 \n"
      ]
     },
     "metadata": {},
     "output_type": "display_data"
    },
    {
     "name": "stdout",
     "output_type": "stream",
     "text": [
      "田中将大のイメージと出演するCMに関する相関の検定結果(たくましい)"
     ]
    },
    {
     "data": {
      "text/plain": [
       "\n",
       "\tPearson's product-moment correlation\n",
       "\n",
       "data:  robustT and robustT_CM\n",
       "t = 5.2697, df = 11, p-value = 0.0001322\n",
       "alternative hypothesis: true correlation is greater than 0\n",
       "95 percent confidence interval:\n",
       " 0.6187122 1.0000000\n",
       "sample estimates:\n",
       "      cor \n",
       "0.8463273 \n"
      ]
     },
     "metadata": {},
     "output_type": "display_data"
    }
   ],
   "source": [
    "#考察用\n",
    "#田中将大のイメージと彼の出演する\n",
    "#「ポケットモンスター サン・ムーン」のCMのイメージの相関を調べる\n",
    "\n",
    "#かっこいい\n",
    "coolT <- c(3,3,3,2,2,1,1,1,1,0,-1,-1,-1)#田中将大のかっこいいのイメージに関するデータ\n",
    "coolT_CM <-  c(3,3,3,3,3,3,2,2,2,2,2,2,1)#田中将大の出演するCMのイメージのかっこいいに関するデータ\n",
    "\n",
    "cat(\"田中将大のイメージと出演するCMに関する相関の検定結果(かっこいい)\")\n",
    "#かっこいいというイメージに対しピアソンの積率相関係数の相関があるか否かに関する片側検定を行う\n",
    "cor.test(coolT, coolT_CM, method=\"pearson\",alternative=\"greater\") \n",
    "\n",
    "#かわいい\n",
    "cuteT <- c(0,-1,-1,-1,-2,-2,-2,-2,-3,-3,-3,-3,-3)#田中将大のかわいいのイメージに関するデータ\n",
    "cuteT_CM <- c(0,-1,-1,-1,-2,-2,-2,-2,-2,-2,-2,-3,-3) #田中将大の出演するCMのイメージのかわいいに関するデータ\n",
    "\n",
    "cat(\"田中将大のイメージと出演するCMに関する相関の検定結果(かわいい)\")\n",
    "#かわいいというイメージに対しピアソンの積率相関係数の相関があるか否かに関する片側検定を行う\n",
    "cor.test(cuteT, cuteT_CM, method=\"pearson\",alternative=\"greater\") \n",
    "\n",
    "\n",
    "#親しみやすい\n",
    "intimateT <-c(1,1,1,0,0,0,0,-1,-1,-1,-1,-1,-2)#田中将大の親しみやすいのイメージに関するデータ\n",
    "intimateT_CM <- c(1,1,1,1,1,1,0,0,0,0,0,0,-1)#田中将大の出演するCMのイメージの親しみやすいに関するデータ\n",
    "\n",
    "cat(\"田中将大のイメージと出演するCMに関する相関の検定結果(親しみやすい)\")\n",
    "#親しみやすいというイメージに対しピアソンの積率相関係数の相関があるか否かに関する片側検定を行う\n",
    "cor.test(intimateT, intimateT_CM, method=\"pearson\",alternative=\"greater\") \n",
    "\n",
    "\n",
    "#おもしろい\n",
    "interestingT <- c(1,0,0,0,0,-1,-1,-1,-1,-1,-1,-2,-2)#田中将大のおもしろいのイメージに関するデータ\n",
    "interestingT_CM <- c(2,2,1,0,0,0,0,0,0,0,0,-1,-2)#田中将大の出演するCMのイメージのおもしろいに関するデータ\n",
    "\n",
    "cat(\"田中将大のイメージと出演するCMに関する相関の検定結果(おもしろい)\")\n",
    "#おもしろいというイメージに対しピアソンの積率相関係数の相関があるか否かに関する片側検定を行う\n",
    "cor.test(interestingT, interestingT_CM, method=\"pearson\",alternative=\"greater\") \n",
    "\n",
    "\n",
    "#たくましい\n",
    "robustT <- c(3,3,3,3,2,2,2,2,2,2,1,1,1) #田中将大のたくましいのイメージに関するデータ\n",
    "robustT_CM <- c(3,3,2,2,2,2,2,2,2,1,1,0,0) #田中将大の出演するCMのイメージのたくましいに関するデータ\n",
    "\n",
    "cat(\"田中将大のイメージと出演するCMに関する相関の検定結果(たくましい)\")\n",
    "#たくましいというイメージに対しピアソンの積率相関係数の相関があるか否かに関する片側検定を行う\n",
    "cor.test(robustT, robustT_CM, method=\"pearson\",alternative=\"greater\") \n"
   ]
  }
 ],
 "metadata": {
  "kernelspec": {
   "display_name": "R",
   "language": "R",
   "name": "ir"
  },
  "language_info": {
   "codemirror_mode": "r",
   "file_extension": ".r",
   "mimetype": "text/x-r-source",
   "name": "R",
   "pygments_lexer": "r",
   "version": "3.3.2"
  }
 },
 "nbformat": 4,
 "nbformat_minor": 2
}
