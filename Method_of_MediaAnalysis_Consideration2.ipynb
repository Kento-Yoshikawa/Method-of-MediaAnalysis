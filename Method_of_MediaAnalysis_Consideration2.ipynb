{
 "cells": [
  {
   "cell_type": "code",
   "execution_count": 1,
   "metadata": {
    "collapsed": false
   },
   "outputs": [
    {
     "name": "stderr",
     "output_type": "stream",
     "text": [
      "Warning message in ks.test(coolY, \"pnorm\", mean = mean(coolY), sd = sd(coolY), alternative = \"t\"):\n",
      "\"ties should not be present for the Kolmogorov-Smirnov test\""
     ]
    },
    {
     "data": {
      "text/plain": [
       "\n",
       "\tOne-sample Kolmogorov-Smirnov test\n",
       "\n",
       "data:  coolY\n",
       "D = 0.35237, p-value = 0.0229\n",
       "alternative hypothesis: two-sided\n"
      ]
     },
     "metadata": {},
     "output_type": "display_data"
    },
    {
     "name": "stderr",
     "output_type": "stream",
     "text": [
      "Warning message in ks.test(coolY_CM, \"pnorm\", mean = mean(coolY_CM), sd = sd(coolY_CM), :\n",
      "\"ties should not be present for the Kolmogorov-Smirnov test\""
     ]
    },
    {
     "data": {
      "text/plain": [
       "\n",
       "\tOne-sample Kolmogorov-Smirnov test\n",
       "\n",
       "data:  coolY_CM\n",
       "D = 0.22222, p-value = 0.3364\n",
       "alternative hypothesis: two-sided\n"
      ]
     },
     "metadata": {},
     "output_type": "display_data"
    },
    {
     "name": "stderr",
     "output_type": "stream",
     "text": [
      "Warning message in ks.test(cuteY, \"pnorm\", mean = mean(cuteY), sd = sd(cuteY), alternative = \"t\"):\n",
      "\"ties should not be present for the Kolmogorov-Smirnov test\""
     ]
    },
    {
     "data": {
      "text/plain": [
       "\n",
       "\tOne-sample Kolmogorov-Smirnov test\n",
       "\n",
       "data:  cuteY\n",
       "D = 0.20524, p-value = 0.4344\n",
       "alternative hypothesis: two-sided\n"
      ]
     },
     "metadata": {},
     "output_type": "display_data"
    },
    {
     "name": "stderr",
     "output_type": "stream",
     "text": [
      "Warning message in ks.test(cuteY_CM, \"pnorm\", mean = mean(cuteY_CM), sd = sd(cuteY_CM), :\n",
      "\"ties should not be present for the Kolmogorov-Smirnov test\""
     ]
    },
    {
     "data": {
      "text/plain": [
       "\n",
       "\tOne-sample Kolmogorov-Smirnov test\n",
       "\n",
       "data:  cuteY_CM\n",
       "D = 0.2476, p-value = 0.2197\n",
       "alternative hypothesis: two-sided\n"
      ]
     },
     "metadata": {},
     "output_type": "display_data"
    },
    {
     "name": "stderr",
     "output_type": "stream",
     "text": [
      "Warning message in ks.test(intimateY, \"pnorm\", mean = mean(intimateY), sd = sd(intimateY), :\n",
      "\"ties should not be present for the Kolmogorov-Smirnov test\""
     ]
    },
    {
     "data": {
      "text/plain": [
       "\n",
       "\tOne-sample Kolmogorov-Smirnov test\n",
       "\n",
       "data:  intimateY\n",
       "D = 0.267, p-value = 0.1535\n",
       "alternative hypothesis: two-sided\n"
      ]
     },
     "metadata": {},
     "output_type": "display_data"
    },
    {
     "name": "stderr",
     "output_type": "stream",
     "text": [
      "Warning message in ks.test(intimateY_CM, \"pnorm\", mean = mean(intimateY_CM), sd = sd(intimateY_CM), :\n",
      "\"ties should not be present for the Kolmogorov-Smirnov test\""
     ]
    },
    {
     "data": {
      "text/plain": [
       "\n",
       "\tOne-sample Kolmogorov-Smirnov test\n",
       "\n",
       "data:  intimateY_CM\n",
       "D = 0.27173, p-value = 0.1401\n",
       "alternative hypothesis: two-sided\n"
      ]
     },
     "metadata": {},
     "output_type": "display_data"
    },
    {
     "name": "stderr",
     "output_type": "stream",
     "text": [
      "Warning message in ks.test(interestingY, \"pnorm\", mean = mean(interestingY), sd = sd(interestingY), :\n",
      "\"ties should not be present for the Kolmogorov-Smirnov test\""
     ]
    },
    {
     "data": {
      "text/plain": [
       "\n",
       "\tOne-sample Kolmogorov-Smirnov test\n",
       "\n",
       "data:  interestingY\n",
       "D = 0.24017, p-value = 0.2503\n",
       "alternative hypothesis: two-sided\n"
      ]
     },
     "metadata": {},
     "output_type": "display_data"
    },
    {
     "name": "stderr",
     "output_type": "stream",
     "text": [
      "Warning message in ks.test(interestingY_CM, \"pnorm\", mean = mean(interestingY_CM), :\n",
      "\"ties should not be present for the Kolmogorov-Smirnov test\""
     ]
    },
    {
     "data": {
      "text/plain": [
       "\n",
       "\tOne-sample Kolmogorov-Smirnov test\n",
       "\n",
       "data:  interestingY_CM\n",
       "D = 0.26449, p-value = 0.1611\n",
       "alternative hypothesis: two-sided\n"
      ]
     },
     "metadata": {},
     "output_type": "display_data"
    },
    {
     "name": "stderr",
     "output_type": "stream",
     "text": [
      "Warning message in ks.test(robustY, \"pnorm\", mean = mean(robustY), sd = sd(robustY), :\n",
      "\"ties should not be present for the Kolmogorov-Smirnov test\""
     ]
    },
    {
     "data": {
      "text/plain": [
       "\n",
       "\tOne-sample Kolmogorov-Smirnov test\n",
       "\n",
       "data:  robustY\n",
       "D = 0.41498, p-value = 0.004061\n",
       "alternative hypothesis: two-sided\n"
      ]
     },
     "metadata": {},
     "output_type": "display_data"
    },
    {
     "name": "stderr",
     "output_type": "stream",
     "text": [
      "Warning message in ks.test(robustY_CM, \"pnorm\", mean = mean(robustY_CM), sd = sd(robustY_CM), :\n",
      "\"ties should not be present for the Kolmogorov-Smirnov test\""
     ]
    },
    {
     "data": {
      "text/plain": [
       "\n",
       "\tOne-sample Kolmogorov-Smirnov test\n",
       "\n",
       "data:  robustY_CM\n",
       "D = 0.37263, p-value = 0.01349\n",
       "alternative hypothesis: two-sided\n"
      ]
     },
     "metadata": {},
     "output_type": "display_data"
    }
   ],
   "source": [
    "#考察用\n",
    "#吉田沙保里のイメージと彼女の出演する\n",
    "#「ポケットモンスター サン・ムーン」のCMのイメージの平均値の差を調べる\n",
    "\n",
    "#まずはt検定を行えるか否かを検証するためにそれぞれのデータの正規性をコルモゴロフ・スミルノフ検定により有意水準5%の両側検定で確認する\n",
    "\n",
    "#かっこいい\n",
    "coolY <- c(3,3,3,2,2,2,2,2,2,2,2,2,2,1,1,0,-1,-3)#吉田沙保里のかっこいいのイメージに関するデータ\n",
    "coolY_CM <- c(3,2,2,2,2,2,2,2,1,1,1,1,1,0,0,0,-1,-3)#吉田沙保里の出演するCMのイメージのかっこいいに関するデータ\n",
    "\n",
    "#以下のデータでは、それぞれ同じ値のデータがあるため正確な値ではないと警告が出るが、このまま続行\n",
    "\n",
    "ks.test(coolY,\"pnorm\",mean=mean(coolY),sd=sd(coolY),alternative=\"t\")\n",
    "ks.test(coolY_CM,\"pnorm\",mean=mean(coolY_CM),sd=sd(coolY_CM),alternative=\"t\")\n",
    "\n",
    "#かわいい\n",
    "cuteY <- c(1,1,1,0,0,0,0,-1,-1,-1,-1,-1,-1,-1,-2,-2,-3,-3)#吉田沙保里のかわいいのイメージに関するデータ\n",
    "cuteY_CM <- c(0,0,0,0,0,-1,-1,-1,-1,-1,-1,-1,-1,-2,-2,-2,-2,-3)#吉田沙保里の出演するCMのイメージのかわいいに関するデータ\n",
    "ks.test(cuteY,\"pnorm\",mean=mean(cuteY),sd=sd(cuteY),alternative=\"t\")\n",
    "ks.test(cuteY_CM,\"pnorm\",mean=mean(cuteY_CM),sd=sd(cuteY_CM),alternative=\"t\")\n",
    "\n",
    "#親しみやすい\n",
    "intimateY <- c(3,2,1,1,1,1,1,1,1,1,1,0,0,0,0,0,0,-1)#吉田沙保里の親しみやすいのイメージに関するデータ\n",
    "intimateY_CM <- c(3,2,2,2,2,1,1,1,1,1,1,1,1,0,0,0,-1,-3)#吉田沙保里の出演するCMのイメージの親しみやすいに関するデータ\n",
    "ks.test(intimateY,\"pnorm\",mean=mean(intimateY),sd=sd(intimateY),alternative=\"t\")\n",
    "ks.test(intimateY_CM,\"pnorm\",mean=mean(intimateY_CM),sd=sd(intimateY_CM),alternative=\"t\")\n",
    "\n",
    "\n",
    "#おもしろい\n",
    "interestingY <- c(2,1,1,0,0,0,0,0,0,0,0,-1,-1,-1,-1,-1,-1,-2)#吉田沙保里のおもしろいのイメージに関するデータ\n",
    "interestingY_CM <- c(3,3,3,2,2,2,2,2,2,2,1,1,1,1,1,0,-2,-3)#吉田沙保里の出演するCMのイメージのおもしろいに関するデータ\n",
    "ks.test(interestingY,\"pnorm\",mean=mean(interestingY),sd=sd(interestingY),alternative=\"t\")\n",
    "ks.test(interestingY_CM,\"pnorm\",mean=mean(interestingY_CM),sd=sd(interestingY_CM),alternative=\"t\")\n",
    "\n",
    "\n",
    "#たくましい\n",
    "robustY <- c(3,3,3,3,3,3,3,3,3,3,3,3,3,3,2,2,2,-3)#吉田沙保里のたくましいのイメージに関するデータ\n",
    "robustY_CM <- c(3,3,3,3,3,3,3,2,2,2,2,2,2,2,2,1,-2,-3)#吉田沙保里の出演するCMのイメージのたくましいに関するデータ\n",
    "\n",
    "ks.test(robustY,\"pnorm\",mean=mean(robustY),sd=sd(robustY),alternative=\"t\")\n",
    "ks.test(robustY_CM,\"pnorm\",mean=mean(robustY_CM),sd=sd(robustY_CM),alternative=\"t\")\n",
    "\n",
    "#結果から吉田沙保里自身のかっこいいの要素と本人とCMのいずれの要素でもたくましいの要素で正規性が見られないことがわかる\n"
   ]
  },
  {
   "cell_type": "code",
   "execution_count": 2,
   "metadata": {
    "collapsed": false
   },
   "outputs": [
    {
     "data": {
      "text/plain": [
       "\n",
       "\tF test to compare two variances\n",
       "\n",
       "data:  cuteY and cuteY_CM\n",
       "F = 1.9399, num df = 17, denom df = 17, p-value = 0.1821\n",
       "alternative hypothesis: true ratio of variances is not equal to 1\n",
       "95 percent confidence interval:\n",
       " 0.7256626 5.1859733\n",
       "sample estimates:\n",
       "ratio of variances \n",
       "          1.939914 \n"
      ]
     },
     "metadata": {},
     "output_type": "display_data"
    },
    {
     "data": {
      "text/plain": [
       "\n",
       "\tF test to compare two variances\n",
       "\n",
       "data:  intimateY and intimateY_CM\n",
       "F = 0.44627, num df = 17, denom df = 17, p-value = 0.1057\n",
       "alternative hypothesis: true ratio of variances is not equal to 1\n",
       "95 percent confidence interval:\n",
       " 0.1669345 1.1930029\n",
       "sample estimates:\n",
       "ratio of variances \n",
       "         0.4462659 \n"
      ]
     },
     "metadata": {},
     "output_type": "display_data"
    },
    {
     "data": {
      "text/plain": [
       "\n",
       "\tF test to compare two variances\n",
       "\n",
       "data:  interestingY and interestingY_CM\n",
       "F = 0.3465, num df = 17, denom df = 17, p-value = 0.03517\n",
       "alternative hypothesis: true ratio of variances is not equal to 1\n",
       "95 percent confidence interval:\n",
       " 0.1296139 0.9262901\n",
       "sample estimates:\n",
       "ratio of variances \n",
       "         0.3464968 \n"
      ]
     },
     "metadata": {},
     "output_type": "display_data"
    }
   ],
   "source": [
    "#考察用\n",
    "#吉田沙保里のイメージと彼女の出演する\n",
    "#「ポケットモンスター サン・ムーン」のCMのイメージの平均値の差を調べる\n",
    "\n",
    "#次にt検定を行えるか否かを検証するためにそれぞれのデータの等分散性をF検定により有意水準5%で確認する\n",
    "\n",
    "#ここでかっこいいとたくましいに関するデータで正規性が見られないと判定されたデータがあったのでかっこいいとたくましいの要素に関するデータはF検定\n",
    "#の対象から除外した\n",
    "\n",
    "#かわいい\n",
    "cuteY <- c(1,1,1,0,0,0,0,-1,-1,-1,-1,-1,-1,-1,-2,-2,-3,-3)#吉田沙保里のかわいいのイメージに関するデータ\n",
    "cuteY_CM <- c(0,0,0,0,0,-1,-1,-1,-1,-1,-1,-1,-1,-2,-2,-2,-2,-3)#吉田沙保里の出演するCMのイメージのかわいいに関するデータ\n",
    "var.test(cuteY,cuteY_CM)#F検定\n",
    "\n",
    "#親しみやすい\n",
    "intimateY <- c(3,2,1,1,1,1,1,1,1,1,1,0,0,0,0,0,0,-1)#吉田沙保里の親しみやすいのイメージに関するデータ\n",
    "intimateY_CM <- c(3,2,2,2,2,1,1,1,1,1,1,1,1,0,0,0,-1,-3)#吉田沙保里の出演するCMのイメージの親しみやすいに関するデータ\n",
    "var.test(intimateY,intimateY_CM)#F検定\n",
    "\n",
    "\n",
    "#おもしろい\n",
    "interestingY <- c(2,1,1,0,0,0,0,0,0,0,0,-1,-1,-1,-1,-1,-1,-2)#吉田沙保里のおもしろいのイメージに関するデータ\n",
    "interestingY_CM <- c(3,3,3,2,2,2,2,2,2,2,1,1,1,1,1,0,-2,-3)#吉田沙保里の出演するCMのイメージのおもしろいに関するデータ\n",
    "var.test(interestingY,interestingY_CM)#F検定\n",
    "\n",
    "#おもしろいの部分のデータだけp値が0.05より下回っているので等分散性が成り立たないと分かる."
   ]
  },
  {
   "cell_type": "code",
   "execution_count": 3,
   "metadata": {
    "collapsed": false
   },
   "outputs": [
    {
     "name": "stderr",
     "output_type": "stream",
     "text": [
      "Warning message in wilcox.test.default(coolY, coolY_CM, alternative = \"t\"):\n",
      "\"cannot compute exact p-value with ties\""
     ]
    },
    {
     "data": {
      "text/plain": [
       "\n",
       "\tWilcoxon rank sum test with continuity correction\n",
       "\n",
       "data:  coolY and coolY_CM\n",
       "W = 208, p-value = 0.1259\n",
       "alternative hypothesis: true location shift is not equal to 0\n"
      ]
     },
     "metadata": {},
     "output_type": "display_data"
    },
    {
     "data": {
      "text/plain": [
       "\n",
       "\tTwo Sample t-test\n",
       "\n",
       "data:  cuteY and cuteY_CM\n",
       "t = 0.78768, df = 34, p-value = 0.4363\n",
       "alternative hypothesis: true difference in means is not equal to 0\n",
       "95 percent confidence interval:\n",
       " -0.4389006  0.9944561\n",
       "sample estimates:\n",
       " mean of x  mean of y \n",
       "-0.7777778 -1.0555556 \n"
      ]
     },
     "metadata": {},
     "output_type": "display_data"
    },
    {
     "data": {
      "text/plain": [
       "\n",
       "\tTwo Sample t-test\n",
       "\n",
       "data:  intimateY and intimateY_CM\n",
       "t = -0.29265, df = 34, p-value = 0.7716\n",
       "alternative hypothesis: true difference in means is not equal to 0\n",
       "95 percent confidence interval:\n",
       " -0.8827058  0.6604836\n",
       "sample estimates:\n",
       "mean of x mean of y \n",
       "0.7222222 0.8333333 \n"
      ]
     },
     "metadata": {},
     "output_type": "display_data"
    },
    {
     "data": {
      "text/plain": [
       "\n",
       "\tWelch Two Sample t-test\n",
       "\n",
       "data:  interestingY and interestingY_CM\n",
       "t = -3.4241, df = 27.518, p-value = 0.00195\n",
       "alternative hypothesis: true difference in means is not equal to 0\n",
       "95 percent confidence interval:\n",
       " -2.3980481 -0.6019519\n",
       "sample estimates:\n",
       " mean of x  mean of y \n",
       "-0.2222222  1.2777778 \n"
      ]
     },
     "metadata": {},
     "output_type": "display_data"
    },
    {
     "name": "stderr",
     "output_type": "stream",
     "text": [
      "Warning message in wilcox.test.default(robustY, robustY_CM, alternative = \"t\"):\n",
      "\"cannot compute exact p-value with ties\""
     ]
    },
    {
     "data": {
      "text/plain": [
       "\n",
       "\tWilcoxon rank sum test with continuity correction\n",
       "\n",
       "data:  robustY and robustY_CM\n",
       "W = 224.5, p-value = 0.02571\n",
       "alternative hypothesis: true location shift is not equal to 0\n"
      ]
     },
     "metadata": {},
     "output_type": "display_data"
    }
   ],
   "source": [
    "#考察用\n",
    "#吉田沙保里のイメージと彼女の出演する\n",
    "#「ポケットモンスター サン・ムーン」のCMのイメージの平均値の差を調べる\n",
    "\n",
    "#各データに対して正規性と等分散性の確認ができたのでようやく平均値の差の検定を有意水準5％の両側検定で行う\n",
    "\n",
    "#かっこいいの要素については正規性が成り立たなかったのでWilcoxonの順位和検定（Mann-WhitneyのU検定）というものを適用する\n",
    "coolY <- c(3,3,3,2,2,2,2,2,2,2,2,2,2,1,1,0,-1,-3)#吉田沙保里のかっこいいのイメージに関するデータ\n",
    "coolY_CM <- c(3,2,2,2,2,2,2,2,1,1,1,1,1,0,0,0,-1,-3)#吉田沙保里の出演するCMのイメージのかっこいいに関するデータ\n",
    "wilcox.test(coolY,coolY_CM,alternative=\"t\")\n",
    "\n",
    "#かわいい\n",
    "cuteY <- c(1,1,1,0,0,0,0,-1,-1,-1,-1,-1,-1,-1,-2,-2,-3,-3)#吉田沙保里のかわいいのイメージに関するデータ\n",
    "cuteY_CM <- c(0,0,0,0,0,-1,-1,-1,-1,-1,-1,-1,-1,-2,-2,-2,-2,-3)#吉田沙保里の出演するCMのイメージのかわいいに関するデータ\n",
    "t.test(cuteY,cuteY_CM,var.equal=T,alternative=\"t\")#t検定\n",
    "\n",
    "#親しみやすい\n",
    "intimateY <- c(3,2,1,1,1,1,1,1,1,1,1,0,0,0,0,0,0,-1)#吉田沙保里の親しみやすいのイメージに関するデータ\n",
    "intimateY_CM <- c(3,2,2,2,2,1,1,1,1,1,1,1,1,0,0,0,-1,-3)#吉田沙保里の出演するCMのイメージの親しみやすいに関するデータ\n",
    "t.test(intimateY,intimateY_CM,var.equal=T,alternative=\"t\")#t検定\n",
    "\n",
    "#おもしろい\n",
    "interestingY <- c(2,1,1,0,0,0,0,0,0,0,0,-1,-1,-1,-1,-1,-1,-2)#吉田沙保里のおもしろいのイメージに関するデータ\n",
    "interestingY_CM <- c(3,3,3,2,2,2,2,2,2,2,1,1,1,1,1,0,-2,-3)#吉田沙保里の出演するCMのイメージのおもしろいに関するデータ\n",
    "t.test(interestingY,interestingY_CM,var.equal=F,alternative=\"t\")#Welchの検定\n",
    "\n",
    "#たくましいの要素については正規性が成り立たなかったのでWilcoxonの順位和検定（Mann-WhitneyのU検定）というものを適用する\n",
    "robustY <- c(3,3,3,3,3,3,3,3,3,3,3,3,3,3,2,2,2,-3)#吉田沙保里のたくましいのイメージに関するデータ\n",
    "robustY_CM <- c(3,3,3,3,3,3,3,2,2,2,2,2,2,2,2,1,-2,-3)#吉田沙保里の出演するCMのイメージのたくましいに関するデータ\n",
    "wilcox.test(robustY,robustY_CM,alternative=\"t\")\n",
    "\n",
    "#この結果からおもしろいとたくましいの要素でイメージに差があると判定できる"
   ]
  },
  {
   "cell_type": "code",
   "execution_count": 4,
   "metadata": {
    "collapsed": false
   },
   "outputs": [
    {
     "name": "stderr",
     "output_type": "stream",
     "text": [
      "Warning message in ks.test(coolI, \"pnorm\", mean = mean(coolI), sd = sd(coolI), alternative = \"t\"):\n",
      "\"ties should not be present for the Kolmogorov-Smirnov test\""
     ]
    },
    {
     "data": {
      "text/plain": [
       "\n",
       "\tOne-sample Kolmogorov-Smirnov test\n",
       "\n",
       "data:  coolI\n",
       "D = 0.25402, p-value = 0.1958\n",
       "alternative hypothesis: two-sided\n"
      ]
     },
     "metadata": {},
     "output_type": "display_data"
    },
    {
     "name": "stderr",
     "output_type": "stream",
     "text": [
      "Warning message in ks.test(coolI_CM, \"pnorm\", mean = mean(coolI_CM), sd = sd(coolI_CM), :\n",
      "\"ties should not be present for the Kolmogorov-Smirnov test\""
     ]
    },
    {
     "data": {
      "text/plain": [
       "\n",
       "\tOne-sample Kolmogorov-Smirnov test\n",
       "\n",
       "data:  coolI_CM\n",
       "D = 0.22219, p-value = 0.3366\n",
       "alternative hypothesis: two-sided\n"
      ]
     },
     "metadata": {},
     "output_type": "display_data"
    },
    {
     "name": "stderr",
     "output_type": "stream",
     "text": [
      "Warning message in ks.test(cuteI, \"pnorm\", mean = mean(cuteI), sd = sd(cuteI), alternative = \"t\"):\n",
      "\"ties should not be present for the Kolmogorov-Smirnov test\""
     ]
    },
    {
     "data": {
      "text/plain": [
       "\n",
       "\tOne-sample Kolmogorov-Smirnov test\n",
       "\n",
       "data:  cuteI\n",
       "D = 0.19696, p-value = 0.4874\n",
       "alternative hypothesis: two-sided\n"
      ]
     },
     "metadata": {},
     "output_type": "display_data"
    },
    {
     "name": "stderr",
     "output_type": "stream",
     "text": [
      "Warning message in ks.test(cuteI_CM, \"pnorm\", mean = mean(cuteI_CM), sd = sd(cuteI_CM), :\n",
      "\"ties should not be present for the Kolmogorov-Smirnov test\""
     ]
    },
    {
     "data": {
      "text/plain": [
       "\n",
       "\tOne-sample Kolmogorov-Smirnov test\n",
       "\n",
       "data:  cuteI_CM\n",
       "D = 0.23153, p-value = 0.2895\n",
       "alternative hypothesis: two-sided\n"
      ]
     },
     "metadata": {},
     "output_type": "display_data"
    },
    {
     "name": "stderr",
     "output_type": "stream",
     "text": [
      "Warning message in ks.test(intimateI, \"pnorm\", mean = mean(intimateI), sd = sd(intimateI), :\n",
      "\"ties should not be present for the Kolmogorov-Smirnov test\""
     ]
    },
    {
     "data": {
      "text/plain": [
       "\n",
       "\tOne-sample Kolmogorov-Smirnov test\n",
       "\n",
       "data:  intimateI\n",
       "D = 0.30287, p-value = 0.07359\n",
       "alternative hypothesis: two-sided\n"
      ]
     },
     "metadata": {},
     "output_type": "display_data"
    },
    {
     "name": "stderr",
     "output_type": "stream",
     "text": [
      "Warning message in ks.test(intimateI_CM, \"pnorm\", mean = mean(intimateI_CM), sd = sd(intimateI_CM), :\n",
      "\"ties should not be present for the Kolmogorov-Smirnov test\""
     ]
    },
    {
     "data": {
      "text/plain": [
       "\n",
       "\tOne-sample Kolmogorov-Smirnov test\n",
       "\n",
       "data:  intimateI_CM\n",
       "D = 0.33288, p-value = 0.03703\n",
       "alternative hypothesis: two-sided\n"
      ]
     },
     "metadata": {},
     "output_type": "display_data"
    },
    {
     "name": "stderr",
     "output_type": "stream",
     "text": [
      "Warning message in ks.test(interestingI, \"pnorm\", mean = mean(interestingI), sd = sd(interestingI), :\n",
      "\"ties should not be present for the Kolmogorov-Smirnov test\""
     ]
    },
    {
     "data": {
      "text/plain": [
       "\n",
       "\tOne-sample Kolmogorov-Smirnov test\n",
       "\n",
       "data:  interestingI\n",
       "D = 0.30554, p-value = 0.06942\n",
       "alternative hypothesis: two-sided\n"
      ]
     },
     "metadata": {},
     "output_type": "display_data"
    },
    {
     "name": "stderr",
     "output_type": "stream",
     "text": [
      "Warning message in ks.test(interestingI_CM, \"pnorm\", mean = mean(interestingI_CM), :\n",
      "\"ties should not be present for the Kolmogorov-Smirnov test\""
     ]
    },
    {
     "data": {
      "text/plain": [
       "\n",
       "\tOne-sample Kolmogorov-Smirnov test\n",
       "\n",
       "data:  interestingI_CM\n",
       "D = 0.27209, p-value = 0.1391\n",
       "alternative hypothesis: two-sided\n"
      ]
     },
     "metadata": {},
     "output_type": "display_data"
    },
    {
     "name": "stderr",
     "output_type": "stream",
     "text": [
      "Warning message in ks.test(robustI, \"pnorm\", mean = mean(robustI), sd = sd(robustI), :\n",
      "\"ties should not be present for the Kolmogorov-Smirnov test\""
     ]
    },
    {
     "data": {
      "text/plain": [
       "\n",
       "\tOne-sample Kolmogorov-Smirnov test\n",
       "\n",
       "data:  robustI\n",
       "D = 0.18029, p-value = 0.6021\n",
       "alternative hypothesis: two-sided\n"
      ]
     },
     "metadata": {},
     "output_type": "display_data"
    },
    {
     "name": "stderr",
     "output_type": "stream",
     "text": [
      "Warning message in ks.test(robustI_CM, \"pnorm\", mean = mean(robustI_CM), sd = sd(robustI_CM), :\n",
      "\"ties should not be present for the Kolmogorov-Smirnov test\""
     ]
    },
    {
     "data": {
      "text/plain": [
       "\n",
       "\tOne-sample Kolmogorov-Smirnov test\n",
       "\n",
       "data:  robustI_CM\n",
       "D = 0.28071, p-value = 0.1172\n",
       "alternative hypothesis: two-sided\n"
      ]
     },
     "metadata": {},
     "output_type": "display_data"
    }
   ],
   "source": [
    "#考察用\n",
    "#イモトアヤコのイメージと彼女の出演する\n",
    "#「ポケットモンスター サン・ムーン」のCMのイメージの平均値の差を調べる\n",
    "\n",
    "#まずはt検定を行えるか否かを検証するためにそれぞれのデータの正規性をコルモゴロフ・スミルノフ検定により有意水準5%の両側検定で確認する\n",
    "\n",
    "#かっこいい\n",
    "coolI <-c(3,3,2,1,1,0,0,0,0,-1,-1,-1,-1,-1,-1,-1,-1,-2)#イモトアヤコのかっこいいのイメージに関するデータ\n",
    "coolI_CM <- c(2,1,1,0,0,0,0,0,0,-1,-1,-1,-1,-1,-1,-1,-2,-2)#イモトアヤコの出演するCMのイメージのかっこいいに関するデータ\n",
    "\n",
    "#以下のデータでは、それぞれ同じ値のデータがあるため正確な値ではないと警告が出るが、このまま続行\n",
    "ks.test(coolI,\"pnorm\",mean=mean(coolI),sd=sd(coolI),alternative=\"t\")\n",
    "ks.test(coolI_CM,\"pnorm\",mean=mean(coolI_CM),sd=sd(coolI_CM),alternative=\"t\")\n",
    "\n",
    "#かわいい\n",
    "cuteI <- c(1,1,1,1,1,1,0,0,0,0,0,-1,-1,-1,-1,-2,-2,-2)#イモトアヤコのかわいいのイメージに関するデータ\n",
    "cuteI_CM <- c(2,1,0,0,0,0,0,0,-1,-1,-1,-1,-1,-1,-1,-1,-2,-3) #イモトアヤコの出演するCMのイメージのかわいいに関するデータ\n",
    "ks.test(cuteI,\"pnorm\",mean=mean(cuteI),sd=sd(cuteI),alternative=\"t\")\n",
    "ks.test(cuteI_CM,\"pnorm\",mean=mean(cuteI_CM),sd=sd(cuteI_CM),alternative=\"t\")\n",
    "\n",
    "#親しみやすい\n",
    "intimateI <-  c(3,3,2,2,2,2,2,2,2,2,2,1,1,1,1,1,-2,-3)#イモトアヤコの親しみやすいのイメージに関するデータ\n",
    "intimateI_CM <- c(3,2,2,2,2,2,2,2,2,2,2,2,1,1,1,1,0,-3)#イモトアヤコの出演するCMのイメージの親しみやすいに関するデータ\n",
    "ks.test(intimateI,\"pnorm\",mean=mean(intimateI),sd=sd(intimateI),alternative=\"t\")\n",
    "ks.test(intimateI_CM,\"pnorm\",mean=mean(intimateI_CM),sd=sd(intimateI_CM),alternative=\"t\")\n",
    "\n",
    "#おもしろい\n",
    "interestingI <- c(3,3,2,2,2,2,2,2,1,1,1,1,1,1,1,1,0,-3)#イモトアヤコのおもしろいのイメージに関するデータ\n",
    "interestingI_CM <- c(3,3,2,2,2,2,2,2,2,2,2,1,1,1,1,1,0,-3)#イモトアヤコの出演するCMのイメージのおもしろいに関するデータ\n",
    "ks.test(interestingI,\"pnorm\",mean=mean(interestingI),sd=sd(interestingI),alternative=\"t\")\n",
    "ks.test(interestingI_CM,\"pnorm\",mean=mean(interestingI_CM),sd=sd(interestingI_CM),alternative=\"t\")\n",
    "\n",
    "#たくましい\n",
    "robustI <- c(3,3,3,2,2,2,2,2,1,1,1,1,0,0,0,0,-1,-2)#イモトアヤコのたくましいのイメージに関するデータ\n",
    "robustI_CM <-  c(2,1,0,0,0,0,0,0,0,0,0,0,-1,-1,-1,-1,-2,-2)#イモトアヤコの出演するCMのイメージのたくましいに関するデータ\n",
    "ks.test(robustI,\"pnorm\",mean=mean(robustI),sd=sd(robustI),alternative=\"t\")\n",
    "ks.test(robustI_CM,\"pnorm\",mean=mean(robustI_CM),sd=sd(robustI_CM),alternative=\"t\")\n",
    "\n",
    "#以下の結果からイモトアヤコのCMの親しみやすいの要素で正規性が見られないことがわかる\n"
   ]
  },
  {
   "cell_type": "code",
   "execution_count": 5,
   "metadata": {
    "collapsed": false
   },
   "outputs": [
    {
     "data": {
      "text/plain": [
       "\n",
       "\tF test to compare two variances\n",
       "\n",
       "data:  coolI and coolI_CM\n",
       "F = 1.9696, num df = 17, denom df = 17, p-value = 0.1725\n",
       "alternative hypothesis: true ratio of variances is not equal to 1\n",
       "95 percent confidence interval:\n",
       " 0.736769 5.265345\n",
       "sample estimates:\n",
       "ratio of variances \n",
       "          1.969605 \n"
      ]
     },
     "metadata": {},
     "output_type": "display_data"
    },
    {
     "data": {
      "text/plain": [
       "\n",
       "\tF test to compare two variances\n",
       "\n",
       "data:  cuteI and cuteI_CM\n",
       "F = 1.0326, num df = 17, denom df = 17, p-value = 0.948\n",
       "alternative hypothesis: true ratio of variances is not equal to 1\n",
       "95 percent confidence interval:\n",
       " 0.3862674 2.7604732\n",
       "sample estimates:\n",
       "ratio of variances \n",
       "          1.032609 \n"
      ]
     },
     "metadata": {},
     "output_type": "display_data"
    },
    {
     "data": {
      "text/plain": [
       "\n",
       "\tF test to compare two variances\n",
       "\n",
       "data:  interestingI and interestingI_CM\n",
       "F = 0.97263, num df = 17, denom df = 17, p-value = 0.955\n",
       "alternative hypothesis: true ratio of variances is not equal to 1\n",
       "95 percent confidence interval:\n",
       " 0.3638303 2.6001261\n",
       "sample estimates:\n",
       "ratio of variances \n",
       "         0.9726277 \n"
      ]
     },
     "metadata": {},
     "output_type": "display_data"
    },
    {
     "data": {
      "text/plain": [
       "\n",
       "\tF test to compare two variances\n",
       "\n",
       "data:  robustI and robustI_CM\n",
       "F = 2.1637, num df = 17, denom df = 17, p-value = 0.1213\n",
       "alternative hypothesis: true ratio of variances is not equal to 1\n",
       "95 percent confidence interval:\n",
       " 0.8093745 5.7842229\n",
       "sample estimates:\n",
       "ratio of variances \n",
       "          2.163701 \n"
      ]
     },
     "metadata": {},
     "output_type": "display_data"
    }
   ],
   "source": [
    "#考察用\n",
    "#イモトアヤコのイメージと彼女の出演する\n",
    "#「ポケットモンスター サン・ムーン」のCMのイメージの平均値の差を調べる\n",
    "\n",
    "#次にt検定を行えるか否かを検証するためにそれぞれのデータの等分散性をF検定により有意水準5%で確認する\n",
    "#ここで親しみやすい関するデータで正規性が見られないと判定されたデータがあったので親しみやすいに関するデータはF検定\n",
    "#の対象から除外した\n",
    "\n",
    "#かっこいい\n",
    "coolI <-c(3,3,2,1,1,0,0,0,0,-1,-1,-1,-1,-1,-1,-1,-1,-2)#イモトアヤコのかっこいいのイメージに関するデータ\n",
    "coolI_CM <- c(2,1,1,0,0,0,0,0,0,-1,-1,-1,-1,-1,-1,-1,-2,-2)#イモトアヤコの出演するCMのイメージのかっこいいに関するデータ\n",
    "var.test(coolI,coolI_CM)#F検定\n",
    "\n",
    "#かわいい\n",
    "cuteI <- c(1,1,1,1,1,1,0,0,0,0,0,-1,-1,-1,-1,-2,-2,-2)#イモトアヤコのかわいいのイメージに関するデータ\n",
    "cuteI_CM <- c(2,1,0,0,0,0,0,0,-1,-1,-1,-1,-1,-1,-1,-1,-2,-3) #イモトアヤコの出演するCMのイメージのかわいいに関するデータ\n",
    "var.test(cuteI,cuteI_CM)#F検定\n",
    "\n",
    "\n",
    "#おもしろい\n",
    "interestingI <- c(3,3,2,2,2,2,2,2,1,1,1,1,1,1,1,1,0,-3)#イモトアヤコのおもしろいのイメージに関するデータ\n",
    "interestingI_CM <- c(3,3,2,2,2,2,2,2,2,2,2,1,1,1,1,1,0,-3)#イモトアヤコの出演するCMのイメージのおもしろいに関するデータ\n",
    "var.test(interestingI,interestingI_CM)#F検定\n",
    "\n",
    "#たくましい\n",
    "robustI <- c(3,3,3,2,2,2,2,2,1,1,1,1,0,0,0,0,-1,-2)#イモトアヤコのたくましいのイメージに関するデータ\n",
    "robustI_CM <-  c(2,1,0,0,0,0,0,0,0,0,0,0,-1,-1,-1,-1,-2,-2)#イモトアヤコの出演するCMのイメージのたくましいに関するデータ\n",
    "var.test(robustI,robustI_CM)#F検定\n",
    "\n",
    "#以下の結果からいずれもp値が0.05より上回っているので等分散であるとみなす\n"
   ]
  },
  {
   "cell_type": "code",
   "execution_count": 6,
   "metadata": {
    "collapsed": false
   },
   "outputs": [
    {
     "data": {
      "text/plain": [
       "\n",
       "\tTwo Sample t-test\n",
       "\n",
       "data:  coolI and coolI_CM\n",
       "t = 0.92337, df = 34, p-value = 0.3623\n",
       "alternative hypothesis: true difference in means is not equal to 0\n",
       "95 percent confidence interval:\n",
       " -0.4670175  1.2447953\n",
       "sample estimates:\n",
       " mean of x  mean of y \n",
       " 0.0000000 -0.3888889 \n"
      ]
     },
     "metadata": {},
     "output_type": "display_data"
    },
    {
     "data": {
      "text/plain": [
       "\n",
       "\tTwo Sample t-test\n",
       "\n",
       "data:  cuteI and cuteI_CM\n",
       "t = 0.90453, df = 34, p-value = 0.3721\n",
       "alternative hypothesis: true difference in means is not equal to 0\n",
       "95 percent confidence interval:\n",
       " -0.4155769  1.0822436\n",
       "sample estimates:\n",
       " mean of x  mean of y \n",
       "-0.2222222 -0.5555556 \n"
      ]
     },
     "metadata": {},
     "output_type": "display_data"
    },
    {
     "name": "stderr",
     "output_type": "stream",
     "text": [
      "Warning message in wilcox.test.default(intimateY, intimateY_CM, alternative = \"t\"):\n",
      "\"cannot compute exact p-value with ties\""
     ]
    },
    {
     "data": {
      "text/plain": [
       "\n",
       "\tWilcoxon rank sum test with continuity correction\n",
       "\n",
       "data:  intimateY and intimateY_CM\n",
       "W = 136, p-value = 0.3889\n",
       "alternative hypothesis: true location shift is not equal to 0\n"
      ]
     },
     "metadata": {},
     "output_type": "display_data"
    },
    {
     "data": {
      "text/plain": [
       "\n",
       "\tTwo Sample t-test\n",
       "\n",
       "data:  interestingI and interestingI_CM\n",
       "t = -0.37621, df = 34, p-value = 0.7091\n",
       "alternative hypothesis: true difference in means is not equal to 0\n",
       "95 percent confidence interval:\n",
       " -1.0669762  0.7336428\n",
       "sample estimates:\n",
       "mean of x mean of y \n",
       " 1.277778  1.444444 \n"
      ]
     },
     "metadata": {},
     "output_type": "display_data"
    },
    {
     "data": {
      "text/plain": [
       "\n",
       "\tTwo Sample t-test\n",
       "\n",
       "data:  robustI and robustI_CM\n",
       "t = 3.4571, df = 34, p-value = 0.001486\n",
       "alternative hypothesis: true difference in means is not equal to 0\n",
       "95 percent confidence interval:\n",
       " 0.5724384 2.2053394\n",
       "sample estimates:\n",
       " mean of x  mean of y \n",
       " 1.1111111 -0.2777778 \n"
      ]
     },
     "metadata": {},
     "output_type": "display_data"
    }
   ],
   "source": [
    "#考察用\n",
    "#イモトアヤコのイメージと彼女の出演する\n",
    "#「ポケットモンスター サン・ムーン」のCMのイメージの平均値の差を調べる\n",
    "\n",
    "#各データに対して正規性と等分散性の確認ができたのでようやく平均値の差の検定を有意水準5％の両側検定で行う\n",
    "\n",
    "#かっこいい\n",
    "coolI <-c(3,3,2,1,1,0,0,0,0,-1,-1,-1,-1,-1,-1,-1,-1,-2)#イモトアヤコのかっこいいのイメージに関するデータ\n",
    "coolI_CM <- c(2,1,1,0,0,0,0,0,0,-1,-1,-1,-1,-1,-1,-1,-2,-2)#イモトアヤコの出演するCMのイメージのかっこいいに関するデータ\n",
    "t.test(coolI,coolI_CM,var.equal=T,alternative=\"t\")#t検定\n",
    "\n",
    "#かわいい\n",
    "cuteI <- c(1,1,1,1,1,1,0,0,0,0,0,-1,-1,-1,-1,-2,-2,-2)#イモトアヤコのかわいいのイメージに関するデータ\n",
    "cuteI_CM <- c(2,1,0,0,0,0,0,0,-1,-1,-1,-1,-1,-1,-1,-1,-2,-3) #イモトアヤコの出演するCMのイメージのかわいいに関するデータ\n",
    "t.test(cuteI,cuteI_CM,var.equal=T,alternative=\"t\")#t検定\n",
    "\n",
    "#親しみやすいの要素については正規性が成り立たなかったのでWilcoxonの順位和検定（Mann-WhitneyのU検定）というものを適用する\n",
    "intimateI <-  c(3,3,2,2,2,2,2,2,2,2,2,1,1,1,1,1,-2,-3)#イモトアヤコの親しみやすいのイメージに関するデータ\n",
    "intimateI_CM <- c(3,2,2,2,2,2,2,2,2,2,2,2,1,1,1,1,0,-3)#イモトアヤコの出演するCMのイメージの親しみやすいに関するデータ\n",
    "wilcox.test(intimateY,intimateY_CM,alternative=\"t\")\n",
    "\n",
    "#おもしろい\n",
    "interestingI <- c(3,3,2,2,2,2,2,2,1,1,1,1,1,1,1,1,0,-3)#イモトアヤコのおもしろいのイメージに関するデータ\n",
    "interestingI_CM <- c(3,3,2,2,2,2,2,2,2,2,2,1,1,1,1,1,0,-3)#イモトアヤコの出演するCMのイメージのおもしろいに関するデータ\n",
    "t.test(interestingI,interestingI_CM,var.equal=T,alternative=\"t\")#t検定\n",
    "\n",
    "#たくましい\n",
    "robustI <- c(3,3,3,2,2,2,2,2,1,1,1,1,0,0,0,0,-1,-2)#イモトアヤコのたくましいのイメージに関するデータ\n",
    "robustI_CM <-  c(2,1,0,0,0,0,0,0,0,0,0,0,-1,-1,-1,-1,-2,-2)#イモトアヤコの出演するCMのイメージのたくましいに関するデータ\n",
    "t.test(robustI,robustI_CM,var.equal=T,alternative=\"t\")#t検定\n",
    "\n",
    "#この結果からたくましいの要素でイメージに差があると判定できる"
   ]
  },
  {
   "cell_type": "code",
   "execution_count": 7,
   "metadata": {
    "collapsed": false
   },
   "outputs": [
    {
     "name": "stderr",
     "output_type": "stream",
     "text": [
      "Warning message in ks.test(coolT, \"pnorm\", mean = mean(coolT), sd = sd(coolT), alternative = \"t\"):\n",
      "\"ties should not be present for the Kolmogorov-Smirnov test\""
     ]
    },
    {
     "data": {
      "text/plain": [
       "\n",
       "\tOne-sample Kolmogorov-Smirnov test\n",
       "\n",
       "data:  coolT\n",
       "D = 0.17183, p-value = 0.8374\n",
       "alternative hypothesis: two-sided\n"
      ]
     },
     "metadata": {},
     "output_type": "display_data"
    },
    {
     "name": "stderr",
     "output_type": "stream",
     "text": [
      "Warning message in ks.test(coolT_CM, \"pnorm\", mean = mean(coolT_CM), sd = sd(coolT_CM), :\n",
      "\"ties should not be present for the Kolmogorov-Smirnov test\""
     ]
    },
    {
     "data": {
      "text/plain": [
       "\n",
       "\tOne-sample Kolmogorov-Smirnov test\n",
       "\n",
       "data:  coolT_CM\n",
       "D = 0.28949, p-value = 0.226\n",
       "alternative hypothesis: two-sided\n"
      ]
     },
     "metadata": {},
     "output_type": "display_data"
    },
    {
     "name": "stderr",
     "output_type": "stream",
     "text": [
      "Warning message in ks.test(cuteT, \"pnorm\", mean = mean(cuteT), sd = sd(cuteT), alternative = \"t\"):\n",
      "\"ties should not be present for the Kolmogorov-Smirnov test\""
     ]
    },
    {
     "data": {
      "text/plain": [
       "\n",
       "\tOne-sample Kolmogorov-Smirnov test\n",
       "\n",
       "data:  cuteT\n",
       "D = 0.22596, p-value = 0.5204\n",
       "alternative hypothesis: two-sided\n"
      ]
     },
     "metadata": {},
     "output_type": "display_data"
    },
    {
     "name": "stderr",
     "output_type": "stream",
     "text": [
      "Warning message in ks.test(cuteT_CM, \"pnorm\", mean = mean(cuteT_CM), sd = sd(cuteT_CM), :\n",
      "\"ties should not be present for the Kolmogorov-Smirnov test\""
     ]
    },
    {
     "data": {
      "text/plain": [
       "\n",
       "\tOne-sample Kolmogorov-Smirnov test\n",
       "\n",
       "data:  cuteT_CM\n",
       "D = 0.30155, p-value = 0.1879\n",
       "alternative hypothesis: two-sided\n"
      ]
     },
     "metadata": {},
     "output_type": "display_data"
    },
    {
     "name": "stderr",
     "output_type": "stream",
     "text": [
      "Warning message in ks.test(intimateT, \"pnorm\", mean = mean(intimateT), sd = sd(intimateT), :\n",
      "\"ties should not be present for the Kolmogorov-Smirnov test\""
     ]
    },
    {
     "data": {
      "text/plain": [
       "\n",
       "\tOne-sample Kolmogorov-Smirnov test\n",
       "\n",
       "data:  intimateT\n",
       "D = 0.22909, p-value = 0.5025\n",
       "alternative hypothesis: two-sided\n"
      ]
     },
     "metadata": {},
     "output_type": "display_data"
    },
    {
     "name": "stderr",
     "output_type": "stream",
     "text": [
      "Warning message in ks.test(intimateT_CM, \"pnorm\", mean = mean(intimateT_CM), sd = sd(intimateT_CM), :\n",
      "\"ties should not be present for the Kolmogorov-Smirnov test\""
     ]
    },
    {
     "data": {
      "text/plain": [
       "\n",
       "\tOne-sample Kolmogorov-Smirnov test\n",
       "\n",
       "data:  intimateT_CM\n",
       "D = 0.28949, p-value = 0.226\n",
       "alternative hypothesis: two-sided\n"
      ]
     },
     "metadata": {},
     "output_type": "display_data"
    },
    {
     "name": "stderr",
     "output_type": "stream",
     "text": [
      "Warning message in ks.test(interestingT, \"pnorm\", mean = mean(interestingT), sd = sd(interestingT), :\n",
      "\"ties should not be present for the Kolmogorov-Smirnov test\""
     ]
    },
    {
     "data": {
      "text/plain": [
       "\n",
       "\tOne-sample Kolmogorov-Smirnov test\n",
       "\n",
       "data:  interestingT\n",
       "D = 0.25594, p-value = 0.362\n",
       "alternative hypothesis: two-sided\n"
      ]
     },
     "metadata": {},
     "output_type": "display_data"
    },
    {
     "name": "stderr",
     "output_type": "stream",
     "text": [
      "Warning message in ks.test(interestingT_CM, \"pnorm\", mean = mean(interestingT_CM), :\n",
      "\"ties should not be present for the Kolmogorov-Smirnov test\""
     ]
    },
    {
     "data": {
      "text/plain": [
       "\n",
       "\tOne-sample Kolmogorov-Smirnov test\n",
       "\n",
       "data:  interestingT_CM\n",
       "D = 0.32649, p-value = 0.1251\n",
       "alternative hypothesis: two-sided\n"
      ]
     },
     "metadata": {},
     "output_type": "display_data"
    },
    {
     "name": "stderr",
     "output_type": "stream",
     "text": [
      "Warning message in ks.test(robustT, \"pnorm\", mean = mean(robustT), sd = sd(robustT), :\n",
      "\"ties should not be present for the Kolmogorov-Smirnov test\""
     ]
    },
    {
     "data": {
      "text/plain": [
       "\n",
       "\tOne-sample Kolmogorov-Smirnov test\n",
       "\n",
       "data:  robustT\n",
       "D = 0.23264, p-value = 0.4825\n",
       "alternative hypothesis: two-sided\n"
      ]
     },
     "metadata": {},
     "output_type": "display_data"
    },
    {
     "name": "stderr",
     "output_type": "stream",
     "text": [
      "Warning message in ks.test(robustT_CM, \"pnorm\", mean = mean(robustT_CM), sd = sd(robustT_CM), :\n",
      "\"ties should not be present for the Kolmogorov-Smirnov test\""
     ]
    },
    {
     "data": {
      "text/plain": [
       "\n",
       "\tOne-sample Kolmogorov-Smirnov test\n",
       "\n",
       "data:  robustT_CM\n",
       "D = 0.31964, p-value = 0.1403\n",
       "alternative hypothesis: two-sided\n"
      ]
     },
     "metadata": {},
     "output_type": "display_data"
    }
   ],
   "source": [
    "#考察用\n",
    "#田中将大のイメージと彼の出演する\n",
    "#「ポケットモンスター サン・ムーン」のCMのイメージの平均値の差を調べる\n",
    "\n",
    "#まずはt検定を行えるか否かを検証するためにそれぞれのデータの正規性をコルモゴロフ・スミルノフ検定により有意水準5%の両側検定で確認する\n",
    "\n",
    "#以下のデータでは、それぞれ同じ値のデータがあるため正確な値ではないと警告が出るが、このまま続行\n",
    "\n",
    "#かっこいい\n",
    "coolT <- c(3,3,3,2,2,1,1,1,1,0,-1,-1,-1)#田中将大のかっこいいのイメージに関するデータ\n",
    "coolT_CM <-  c(3,3,3,3,3,3,2,2,2,2,2,2,1)#田中将大の出演するCMのイメージのかっこいいに関するデータ\n",
    "ks.test(coolT,\"pnorm\",mean=mean(coolT),sd=sd(coolT),alternative=\"t\")\n",
    "ks.test(coolT_CM,\"pnorm\",mean=mean(coolT_CM),sd=sd(coolT_CM),alternative=\"t\")\n",
    "\n",
    "\n",
    "#かわいい\n",
    "cuteT <- c(0,-1,-1,-1,-2,-2,-2,-2,-3,-3,-3,-3,-3)#田中将大のかわいいのイメージに関するデータ\n",
    "cuteT_CM <- c(0,-1,-1,-1,-2,-2,-2,-2,-2,-2,-2,-3,-3) #田中将大の出演するCMのイメージのかわいいに関するデータ\n",
    "ks.test(cuteT,\"pnorm\",mean=mean(cuteT),sd=sd(cuteT),alternative=\"t\")\n",
    "ks.test(cuteT_CM,\"pnorm\",mean=mean(cuteT_CM),sd=sd(cuteT_CM),alternative=\"t\")\n",
    "\n",
    "\n",
    "#親しみやすい\n",
    "intimateT <-c(1,1,1,0,0,0,0,-1,-1,-1,-1,-1,-2)#田中将大の親しみやすいのイメージに関するデータ\n",
    "intimateT_CM <- c(1,1,1,1,1,1,0,0,0,0,0,0,-1)#田中将大の出演するCMのイメージの親しみやすいに関するデータ\n",
    "ks.test(intimateT,\"pnorm\",mean=mean(intimateT),sd=sd(intimateT),alternative=\"t\")\n",
    "ks.test(intimateT_CM,\"pnorm\",mean=mean(intimateT_CM),sd=sd(intimateT_CM),alternative=\"t\")\n",
    "\n",
    "\n",
    "#おもしろい\n",
    "interestingT <- c(1,0,0,0,0,-1,-1,-1,-1,-1,-1,-2,-2)#田中将大のおもしろいのイメージに関するデータ\n",
    "interestingT_CM <- c(2,2,1,0,0,0,0,0,0,0,0,-1,-2)#田中将大の出演するCMのイメージのおもしろいに関するデータ\n",
    "ks.test(interestingT,\"pnorm\",mean=mean(interestingT),sd=sd(interestingT),alternative=\"t\")\n",
    "ks.test(interestingT_CM,\"pnorm\",mean=mean(interestingT_CM),sd=sd(interestingT_CM),alternative=\"t\")\n",
    "\n",
    "#たくましい\n",
    "robustT <- c(3,3,3,3,2,2,2,2,2,2,1,1,1) #田中将大のたくましいのイメージに関するデータ\n",
    "robustT_CM <- c(3,3,2,2,2,2,2,2,2,1,1,0,0) #田中将大の出演するCMのイメージのたくましいに関するデータ\n",
    "ks.test(robustT,\"pnorm\",mean=mean(robustT),sd=sd(robustT),alternative=\"t\")\n",
    "ks.test(robustT_CM,\"pnorm\",mean=mean(robustT_CM),sd=sd(robustT_CM),alternative=\"t\")\n",
    "\n",
    "#以下の結果からすべてのデータのp値が0.05より上回っているので正規分布に従うとみなす.\n"
   ]
  },
  {
   "cell_type": "code",
   "execution_count": 8,
   "metadata": {
    "collapsed": false
   },
   "outputs": [
    {
     "data": {
      "text/plain": [
       "\n",
       "\tF test to compare two variances\n",
       "\n",
       "data:  coolI and coolI_CM\n",
       "F = 1.9696, num df = 17, denom df = 17, p-value = 0.1725\n",
       "alternative hypothesis: true ratio of variances is not equal to 1\n",
       "95 percent confidence interval:\n",
       " 0.736769 5.265345\n",
       "sample estimates:\n",
       "ratio of variances \n",
       "          1.969605 \n"
      ]
     },
     "metadata": {},
     "output_type": "display_data"
    },
    {
     "data": {
      "text/plain": [
       "\n",
       "\tF test to compare two variances\n",
       "\n",
       "data:  cuteT and cuteT_CM\n",
       "F = 1.4444, num df = 12, denom df = 12, p-value = 0.5339\n",
       "alternative hypothesis: true ratio of variances is not equal to 1\n",
       "95 percent confidence interval:\n",
       " 0.4407453 4.7338447\n",
       "sample estimates:\n",
       "ratio of variances \n",
       "          1.444444 \n"
      ]
     },
     "metadata": {},
     "output_type": "display_data"
    },
    {
     "data": {
      "text/plain": [
       "\n",
       "\tF test to compare two variances\n",
       "\n",
       "data:  intimateT and intimateT_CM\n",
       "F = 2.1212, num df = 12, denom df = 12, p-value = 0.2072\n",
       "alternative hypothesis: true ratio of variances is not equal to 1\n",
       "95 percent confidence interval:\n",
       " 0.6472483 6.9517999\n",
       "sample estimates:\n",
       "ratio of variances \n",
       "          2.121212 \n"
      ]
     },
     "metadata": {},
     "output_type": "display_data"
    },
    {
     "data": {
      "text/plain": [
       "\n",
       "\tF test to compare two variances\n",
       "\n",
       "data:  interestingT and interestingT_CM\n",
       "F = 0.64045, num df = 12, denom df = 12, p-value = 0.4515\n",
       "alternative hypothesis: true ratio of variances is not equal to 1\n",
       "95 percent confidence interval:\n",
       " 0.1954212 2.0989303\n",
       "sample estimates:\n",
       "ratio of variances \n",
       "         0.6404494 \n"
      ]
     },
     "metadata": {},
     "output_type": "display_data"
    },
    {
     "data": {
      "text/plain": [
       "\n",
       "\tF test to compare two variances\n",
       "\n",
       "data:  robustI and robustT_CM\n",
       "F = 2.214, num df = 17, denom df = 12, p-value = 0.166\n",
       "alternative hypothesis: true ratio of variances is not equal to 1\n",
       "95 percent confidence interval:\n",
       " 0.7076576 6.2543134\n",
       "sample estimates:\n",
       "ratio of variances \n",
       "          2.214006 \n"
      ]
     },
     "metadata": {},
     "output_type": "display_data"
    }
   ],
   "source": [
    "#考察用\n",
    "#田中将大のイメージと彼の出演する\n",
    "#「ポケットモンスター サン・ムーン」のCMのイメージの平均値の差を調べる\n",
    "\n",
    "#次にt検定を行えるか否かを検証するためにそれぞれのデータの等分散性をF検定により有意水準5%で確認する\n",
    "\n",
    "#かっこいい\n",
    "coolT <- c(3,3,3,2,2,1,1,1,1,0,-1,-1,-1)#田中将大のかっこいいのイメージに関するデータ\n",
    "coolT_CM <-  c(3,3,3,3,3,3,2,2,2,2,2,2,1)#田中将大の出演するCMのイメージのかっこいいに関するデータ\n",
    "var.test(coolI,coolI_CM)#F検定\n",
    "\n",
    "#かわいい\n",
    "cuteT <- c(0,-1,-1,-1,-2,-2,-2,-2,-3,-3,-3,-3,-3)#田中将大のかわいいのイメージに関するデータ\n",
    "cuteT_CM <- c(0,-1,-1,-1,-2,-2,-2,-2,-2,-2,-2,-3,-3) #田中将大の出演するCMのイメージのかわいいに関するデータ\n",
    "var.test(cuteT,cuteT_CM)#F検定\n",
    "\n",
    "#親しみやすい\n",
    "intimateT <-c(1,1,1,0,0,0,0,-1,-1,-1,-1,-1,-2)#田中将大の親しみやすいのイメージに関するデータ\n",
    "intimateT_CM <- c(1,1,1,1,1,1,0,0,0,0,0,0,-1)#田中将大の出演するCMのイメージの親しみやすいに関するデータ\n",
    "var.test(intimateT,intimateT_CM)#F検定\n",
    "\n",
    "\n",
    "#おもしろい\n",
    "interestingT <- c(1,0,0,0,0,-1,-1,-1,-1,-1,-1,-2,-2)#田中将大のおもしろいのイメージに関するデータ\n",
    "interestingT_CM <- c(2,2,1,0,0,0,0,0,0,0,0,-1,-2)#田中将大の出演するCMのイメージのおもしろいに関するデータ\n",
    "var.test(interestingT,interestingT_CM)#F検定\n",
    "\n",
    "#たくましい\n",
    "robustT <- c(3,3,3,3,2,2,2,2,2,2,1,1,1) #田中将大のたくましいのイメージに関するデータ\n",
    "robustT_CM <- c(3,3,2,2,2,2,2,2,2,1,1,0,0) #田中将大の出演するCMのイメージのたくましいに関するデータ\n",
    "var.test(robustI,robustT_CM)#F検定\n",
    "\n",
    "#以下の結果からすべてのデータのp値が0.05より上回っているので正規分布に従うとみなす.\n"
   ]
  },
  {
   "cell_type": "code",
   "execution_count": 9,
   "metadata": {
    "collapsed": false
   },
   "outputs": [
    {
     "data": {
      "text/plain": [
       "\n",
       "\tTwo Sample t-test\n",
       "\n",
       "data:  coolI and coolI_CM\n",
       "t = 0.92337, df = 34, p-value = 0.3623\n",
       "alternative hypothesis: true difference in means is not equal to 0\n",
       "95 percent confidence interval:\n",
       " -0.4670175  1.2447953\n",
       "sample estimates:\n",
       " mean of x  mean of y \n",
       " 0.0000000 -0.3888889 \n"
      ]
     },
     "metadata": {},
     "output_type": "display_data"
    },
    {
     "data": {
      "text/plain": [
       "\n",
       "\tTwo Sample t-test\n",
       "\n",
       "data:  cuteT and cuteT_CM\n",
       "t = -0.6396, df = 24, p-value = 0.5285\n",
       "alternative hypothesis: true difference in means is not equal to 0\n",
       "95 percent confidence interval:\n",
       " -0.9754263  0.5138879\n",
       "sample estimates:\n",
       "mean of x mean of y \n",
       "-2.000000 -1.769231 \n"
      ]
     },
     "metadata": {},
     "output_type": "display_data"
    },
    {
     "data": {
      "text/plain": [
       "\n",
       "\tTwo Sample t-test\n",
       "\n",
       "data:  intimateT and intimateT_CM\n",
       "t = -2.1722, df = 24, p-value = 0.03995\n",
       "alternative hypothesis: true difference in means is not equal to 0\n",
       "95 percent confidence interval:\n",
       " -1.35009878 -0.03451661\n",
       "sample estimates:\n",
       " mean of x  mean of y \n",
       "-0.3076923  0.3846154 \n"
      ]
     },
     "metadata": {},
     "output_type": "display_data"
    },
    {
     "data": {
      "text/plain": [
       "\n",
       "\tTwo Sample t-test\n",
       "\n",
       "data:  interestingT and interestingT_CM\n",
       "t = -2.2299, df = 24, p-value = 0.03537\n",
       "alternative hypothesis: true difference in means is not equal to 0\n",
       "95 percent confidence interval:\n",
       " -1.62930537 -0.06300232\n",
       "sample estimates:\n",
       " mean of x  mean of y \n",
       "-0.6923077  0.1538462 \n"
      ]
     },
     "metadata": {},
     "output_type": "display_data"
    },
    {
     "data": {
      "text/plain": [
       "\n",
       "\tTwo Sample t-test\n",
       "\n",
       "data:  robustT and robustT_CM\n",
       "t = 1.1421, df = 24, p-value = 0.2647\n",
       "alternative hypothesis: true difference in means is not equal to 0\n",
       "95 percent confidence interval:\n",
       " -0.3104382  1.0796690\n",
       "sample estimates:\n",
       "mean of x mean of y \n",
       " 2.076923  1.692308 \n"
      ]
     },
     "metadata": {},
     "output_type": "display_data"
    }
   ],
   "source": [
    "#考察用\n",
    "#田中将大のイメージと彼の出演する\n",
    "#「ポケットモンスター サン・ムーン」のCMのイメージの平均値の差を調べる\n",
    "\n",
    "#各データに対して正規性と等分散性の確認ができたのでようやく平均値の差の検定を有意水準5％の両側検定で行う\n",
    "\n",
    "#かっこいい\n",
    "coolT <- c(3,3,3,2,2,1,1,1,1,0,-1,-1,-1)#田中将大のかっこいいのイメージに関するデータ\n",
    "coolT_CM <-  c(3,3,3,3,3,3,2,2,2,2,2,2,1)#田中将大の出演するCMのイメージのかっこいいに関するデータ\n",
    "t.test(coolI,coolI_CM,var.equal=T,alternative=\"t\")#t検定\n",
    "\n",
    "#かわいい\n",
    "cuteT <- c(0,-1,-1,-1,-2,-2,-2,-2,-3,-3,-3,-3,-3)#田中将大のかわいいのイメージに関するデータ\n",
    "cuteT_CM <- c(0,-1,-1,-1,-2,-2,-2,-2,-2,-2,-2,-3,-3) #田中将大の出演するCMのイメージのかわいいに関するデータ\n",
    "t.test(cuteT,cuteT_CM,var.equal=T,alternative=\"t\")#t検定\n",
    "\n",
    "#親しみやすい\n",
    "intimateT <-c(1,1,1,0,0,0,0,-1,-1,-1,-1,-1,-2)#田中将大の親しみやすいのイメージに関するデータ\n",
    "intimateT_CM <- c(1,1,1,1,1,1,0,0,0,0,0,0,-1)#田中将大の出演するCMのイメージの親しみやすいに関するデータ\n",
    "t.test(intimateT,intimateT_CM,var.equal=T,alternative=\"t\")#t検定\n",
    "\n",
    "\n",
    "#おもしろい\n",
    "interestingT <- c(1,0,0,0,0,-1,-1,-1,-1,-1,-1,-2,-2)#田中将大のおもしろいのイメージに関するデータ\n",
    "interestingT_CM <- c(2,2,1,0,0,0,0,0,0,0,0,-1,-2)#田中将大の出演するCMのイメージのおもしろいに関するデータ\n",
    "t.test(interestingT,interestingT_CM,var.equal=T,alternative=\"t\")#t検定\n",
    "\n",
    "#たくましい\n",
    "robustT <- c(3,3,3,3,2,2,2,2,2,2,1,1,1) #田中将大のたくましいのイメージに関するデータ\n",
    "robustT_CM <- c(3,3,2,2,2,2,2,2,2,1,1,0,0) #田中将大の出演するCMのイメージのたくましいに関するデータ\n",
    "t.test(robustT,robustT_CM,var.equal=T,alternative=\"t\")#t検定\n",
    "\n",
    "#以下の結果から親しみやすいとおもしろいわかる\n"
   ]
  }
 ],
 "metadata": {
  "kernelspec": {
   "display_name": "R",
   "language": "R",
   "name": "ir"
  },
  "language_info": {
   "codemirror_mode": "r",
   "file_extension": ".r",
   "mimetype": "text/x-r-source",
   "name": "R",
   "pygments_lexer": "r",
   "version": "3.3.2"
  }
 },
 "nbformat": 4,
 "nbformat_minor": 2
}
