{
 "cells": [
  {
   "cell_type": "code",
   "execution_count": 4,
   "metadata": {
    "collapsed": false
   },
   "outputs": [
    {
     "data": {
      "text/html": [
       "1.5"
      ],
      "text/latex": [
       "1.5"
      ],
      "text/markdown": [
       "1.5"
      ],
      "text/plain": [
       "[1] 1.5"
      ]
     },
     "metadata": {},
     "output_type": "display_data"
    },
    {
     "data": {
      "text/html": [
       "-0.777777777777778"
      ],
      "text/latex": [
       "-0.777777777777778"
      ],
      "text/markdown": [
       "-0.777777777777778"
      ],
      "text/plain": [
       "[1] -0.7777778"
      ]
     },
     "metadata": {},
     "output_type": "display_data"
    },
    {
     "data": {
      "text/html": [
       "0.722222222222222"
      ],
      "text/latex": [
       "0.722222222222222"
      ],
      "text/markdown": [
       "0.722222222222222"
      ],
      "text/plain": [
       "[1] 0.7222222"
      ]
     },
     "metadata": {},
     "output_type": "display_data"
    },
    {
     "data": {
      "text/html": [
       "-0.222222222222222"
      ],
      "text/latex": [
       "-0.222222222222222"
      ],
      "text/markdown": [
       "-0.222222222222222"
      ],
      "text/plain": [
       "[1] -0.2222222"
      ]
     },
     "metadata": {},
     "output_type": "display_data"
    },
    {
     "data": {
      "text/html": [
       "2.5"
      ],
      "text/latex": [
       "2.5"
      ],
      "text/markdown": [
       "2.5"
      ],
      "text/plain": [
       "[1] 2.5"
      ]
     },
     "metadata": {},
     "output_type": "display_data"
    }
   ],
   "source": [
    "#結果用 吉田沙保里のイメージに関するデータ\n",
    "\n",
    "#かっこいい\n",
    "coolY <- c(3,3,3,2,2,2,2,2,2,2,2,2,2,1,1,0,-1,-3)\n",
    "mean(coolY)#かっこいいの平均値\n",
    "\n",
    "#かわいい\n",
    "cuteY <- c(1,1,1,0,0,0,0,-1,-1,-1,-1,-1,-1,-1,-2,-2,-3,-3)\n",
    "mean(cuteY)#かわいいの平均値\n",
    "\n",
    "#親しみやすい\n",
    "intimateY <- c(3,2,1,1,1,1,1,1,1,1,1,0,0,0,0,0,0,-1)\n",
    "mean(intimateY)#親しみやすいの平均値\n",
    "\n",
    "#おもしろい\n",
    "interestingY <- c(2,1,1,0,0,0,0,0,0,0,0,-1,-1,-1,-1,-1,-1,-2)\n",
    "mean(interestingY)#おもしろいの平均値\n",
    "\n",
    "#たくましい\n",
    "robustY <- c(3,3,3,3,3,3,3,3,3,3,3,3,3,3,2,2,2,-3)\n",
    "mean(robustY)#たくましいの平均値"
   ]
  },
  {
   "cell_type": "code",
   "execution_count": 2,
   "metadata": {
    "collapsed": false
   },
   "outputs": [
    {
     "data": {
      "text/html": [
       "0"
      ],
      "text/latex": [
       "0"
      ],
      "text/markdown": [
       "0"
      ],
      "text/plain": [
       "[1] 0"
      ]
     },
     "metadata": {},
     "output_type": "display_data"
    },
    {
     "data": {
      "text/html": [
       "-0.222222222222222"
      ],
      "text/latex": [
       "-0.222222222222222"
      ],
      "text/markdown": [
       "-0.222222222222222"
      ],
      "text/plain": [
       "[1] -0.2222222"
      ]
     },
     "metadata": {},
     "output_type": "display_data"
    },
    {
     "data": {
      "text/html": [
       "1.33333333333333"
      ],
      "text/latex": [
       "1.33333333333333"
      ],
      "text/markdown": [
       "1.33333333333333"
      ],
      "text/plain": [
       "[1] 1.333333"
      ]
     },
     "metadata": {},
     "output_type": "display_data"
    },
    {
     "data": {
      "text/html": [
       "1.27777777777778"
      ],
      "text/latex": [
       "1.27777777777778"
      ],
      "text/markdown": [
       "1.27777777777778"
      ],
      "text/plain": [
       "[1] 1.277778"
      ]
     },
     "metadata": {},
     "output_type": "display_data"
    },
    {
     "data": {
      "text/html": [
       "1.11111111111111"
      ],
      "text/latex": [
       "1.11111111111111"
      ],
      "text/markdown": [
       "1.11111111111111"
      ],
      "text/plain": [
       "[1] 1.111111"
      ]
     },
     "metadata": {},
     "output_type": "display_data"
    }
   ],
   "source": [
    "#結果用 イモトアヤコのイメージに関するデータ\n",
    "\n",
    "#かっこいい\n",
    "coolI <- c(3,3,2,1,1,0,0,0,0,-1,-1,-1,-1,-1,-1,-1,-1,-2)\n",
    "mean(coolI)#かっこいいの平均値\n",
    "\n",
    "#かわいい\n",
    "cuteI <- c(1,1,1,1,1,1,0,0,0,0,0,-1,-1,-1,-1,-2,-2,-2)\n",
    "mean(cuteI)#かわいいの平均値\n",
    "\n",
    "#親しみやすい\n",
    "intimateI <- c(3,3,2,2,2,2,2,2,2,2,2,1,1,1,1,1,-2,-3)\n",
    "mean(intimateI)#親しみやすいの平均値\n",
    "\n",
    "#おもしろい\n",
    "interestingI <- c(3,3,2,2,2,2,2,2,1,1,1,1,1,1,1,1,0,-3)\n",
    "mean(interestingI)#おもしろいの平均値\n",
    "\n",
    "#たくましい\n",
    "robustI <- c(3,3,3,2,2,2,2,2,1,1,1,1,0,0,0,0,-1,-2)\n",
    "mean(robustI)#たくましいの平均値"
   ]
  },
  {
   "cell_type": "code",
   "execution_count": 3,
   "metadata": {
    "collapsed": false
   },
   "outputs": [
    {
     "data": {
      "text/html": [
       "1.07692307692308"
      ],
      "text/latex": [
       "1.07692307692308"
      ],
      "text/markdown": [
       "1.07692307692308"
      ],
      "text/plain": [
       "[1] 1.076923"
      ]
     },
     "metadata": {},
     "output_type": "display_data"
    },
    {
     "data": {
      "text/html": [
       "-2"
      ],
      "text/latex": [
       "-2"
      ],
      "text/markdown": [
       "-2"
      ],
      "text/plain": [
       "[1] -2"
      ]
     },
     "metadata": {},
     "output_type": "display_data"
    },
    {
     "data": {
      "text/html": [
       "-0.307692307692308"
      ],
      "text/latex": [
       "-0.307692307692308"
      ],
      "text/markdown": [
       "-0.307692307692308"
      ],
      "text/plain": [
       "[1] -0.3076923"
      ]
     },
     "metadata": {},
     "output_type": "display_data"
    },
    {
     "data": {
      "text/html": [
       "-0.692307692307692"
      ],
      "text/latex": [
       "-0.692307692307692"
      ],
      "text/markdown": [
       "-0.692307692307692"
      ],
      "text/plain": [
       "[1] -0.6923077"
      ]
     },
     "metadata": {},
     "output_type": "display_data"
    },
    {
     "data": {
      "text/html": [
       "2.07692307692308"
      ],
      "text/latex": [
       "2.07692307692308"
      ],
      "text/markdown": [
       "2.07692307692308"
      ],
      "text/plain": [
       "[1] 2.076923"
      ]
     },
     "metadata": {},
     "output_type": "display_data"
    }
   ],
   "source": [
    "#結果用 田中将大のイメージに関するデータ\n",
    "#かっこいい\n",
    "coolT <- c(3,3,3,2,2,1,1,1,1,0,-1,-1,-1)\n",
    "mean(coolT)#かっこいいの平均値\n",
    "\n",
    "#かわいい\n",
    "cuteT <- c(0,-1,-1,-1,-2,-2,-2,-2,-3,-3,-3,-3,-3)\n",
    "mean(cuteT)#かわいいの平均値\n",
    "\n",
    "#親しみやすい\n",
    "intimateT <- c(1,1,1,0,0,0,0,-1,-1,-1,-1,-1,-2)\n",
    "mean(intimateT)#親しみやすいの平均値\n",
    "\n",
    "#おもしろい\n",
    "interestingT <- c(1,0,0,0,0,-1,-1,-1,-1,-1,-1,-2,-2)\n",
    "mean(interestingT)#おもしろいの平均値\n",
    "\n",
    "#たくましい\n",
    "robustT <- c(3,3,3,3,2,2,2,2,2,2,1,1,1)\n",
    "mean(robustT)#たくましいの平均値"
   ]
  },
  {
   "cell_type": "code",
   "execution_count": 4,
   "metadata": {
    "collapsed": false
   },
   "outputs": [
    {
     "data": {
      "text/html": [
       "0.866666666666667"
      ],
      "text/latex": [
       "0.866666666666667"
      ],
      "text/markdown": [
       "0.866666666666667"
      ],
      "text/plain": [
       "[1] 0.8666667"
      ]
     },
     "metadata": {},
     "output_type": "display_data"
    },
    {
     "data": {
      "text/html": [
       "0.933333333333333"
      ],
      "text/latex": [
       "0.933333333333333"
      ],
      "text/markdown": [
       "0.933333333333333"
      ],
      "text/plain": [
       "[1] 0.9333333"
      ]
     },
     "metadata": {},
     "output_type": "display_data"
    },
    {
     "data": {
      "text/html": [
       "1.4"
      ],
      "text/latex": [
       "1.4"
      ],
      "text/markdown": [
       "1.4"
      ],
      "text/plain": [
       "[1] 1.4"
      ]
     },
     "metadata": {},
     "output_type": "display_data"
    },
    {
     "data": {
      "text/html": [
       "1.33333333333333"
      ],
      "text/latex": [
       "1.33333333333333"
      ],
      "text/markdown": [
       "1.33333333333333"
      ],
      "text/plain": [
       "[1] 1.333333"
      ]
     },
     "metadata": {},
     "output_type": "display_data"
    },
    {
     "data": {
      "text/html": [
       "-0.533333333333333"
      ],
      "text/latex": [
       "-0.533333333333333"
      ],
      "text/markdown": [
       "-0.533333333333333"
      ],
      "text/plain": [
       "[1] -0.5333333"
      ]
     },
     "metadata": {},
     "output_type": "display_data"
    }
   ],
   "source": [
    "#結果用 ポケットモンスターシリーズのイメージに関するデータ\n",
    "#十分認知している場合\n",
    "\n",
    "#かっこいい\n",
    "coolP_know <- c(3,2,2,2,1,1,1,1,1,1,1,0,0,0,-3)\n",
    "mean(coolP_know)#かっこいいの平均値\n",
    "\n",
    "#かわいい\n",
    "cuteP_know <- c(3,2,2,2,2,2,1,1,1,1,1,0,0,-1,-3)\n",
    "mean(cuteP_know)#かわいいの平均値\n",
    "\n",
    "#親しみやすい\n",
    "intimateP_know <- c(3,2,2,2,2,2,2,2,2,1,1,1,1,1,-3)\n",
    "mean(intimateP_know)#親しみやすいの平均値\n",
    "\n",
    "#おもしろい\n",
    "interestingP_know <- c(3,3,2,2,2,2,2,1,1,1,1,1,1,1,-3)\n",
    "mean(interestingP_know)#おもしろいの平均値\n",
    "\n",
    "#たくましい\n",
    "robustP_know <- c(1,0,0,0,0,0,0,-1,-1,-1,-1,-1,-1,-1,-2)\n",
    "mean(robustP_know)#たくましいの平均値"
   ]
  },
  {
   "cell_type": "code",
   "execution_count": 5,
   "metadata": {
    "collapsed": false
   },
   "outputs": [
    {
     "data": {
      "text/html": [
       "0.25"
      ],
      "text/latex": [
       "0.25"
      ],
      "text/markdown": [
       "0.25"
      ],
      "text/plain": [
       "[1] 0.25"
      ]
     },
     "metadata": {},
     "output_type": "display_data"
    },
    {
     "data": {
      "text/html": [
       "0.75"
      ],
      "text/latex": [
       "0.75"
      ],
      "text/markdown": [
       "0.75"
      ],
      "text/plain": [
       "[1] 0.75"
      ]
     },
     "metadata": {},
     "output_type": "display_data"
    },
    {
     "data": {
      "text/html": [
       "1"
      ],
      "text/latex": [
       "1"
      ],
      "text/markdown": [
       "1"
      ],
      "text/plain": [
       "[1] 1"
      ]
     },
     "metadata": {},
     "output_type": "display_data"
    },
    {
     "data": {
      "text/html": [
       "0"
      ],
      "text/latex": [
       "0"
      ],
      "text/markdown": [
       "0"
      ],
      "text/plain": [
       "[1] 0"
      ]
     },
     "metadata": {},
     "output_type": "display_data"
    },
    {
     "data": {
      "text/html": [
       "-0.25"
      ],
      "text/latex": [
       "-0.25"
      ],
      "text/markdown": [
       "-0.25"
      ],
      "text/plain": [
       "[1] -0.25"
      ]
     },
     "metadata": {},
     "output_type": "display_data"
    }
   ],
   "source": [
    "#結果用 ポケットモンスターシリーズのイメージに関するデータ\n",
    "#認知していない場合\n",
    "\n",
    "#かっこいい\n",
    "coolP_unknow <- c(1,0,0,0)\n",
    "mean(coolP_unknow)#かっこいいの平均値\n",
    "\n",
    "#かわいい\n",
    "cuteP_unknow <- c(3,0,0,0)\n",
    "mean(cuteP_unknow)#かわいいの平均値\n",
    "\n",
    "#親しみやすい\n",
    "intimateP_unknow <- c(3,1,0,0)\n",
    "mean(intimateP_unknow)#親しみやすいの平均値\n",
    "\n",
    "#おもしろい\n",
    "interestingP_unknow <- c(0,0,0,0)\n",
    "mean(interestingP_unknow)#おもしろいの平均値\n",
    "\n",
    "#たくましい\n",
    "robustP_unknow <- c(-1,0,0,0)\n",
    "mean(robustP_unknow)#たくましいの平均値"
   ]
  },
  {
   "cell_type": "code",
   "execution_count": 6,
   "metadata": {
    "collapsed": false
   },
   "outputs": [
    {
     "data": {
      "text/html": [
       "1"
      ],
      "text/latex": [
       "1"
      ],
      "text/markdown": [
       "1"
      ],
      "text/plain": [
       "[1] 1"
      ]
     },
     "metadata": {},
     "output_type": "display_data"
    },
    {
     "data": {
      "text/html": [
       "-1.05555555555556"
      ],
      "text/latex": [
       "-1.05555555555556"
      ],
      "text/markdown": [
       "-1.05555555555556"
      ],
      "text/plain": [
       "[1] -1.055556"
      ]
     },
     "metadata": {},
     "output_type": "display_data"
    },
    {
     "data": {
      "text/html": [
       "0.833333333333333"
      ],
      "text/latex": [
       "0.833333333333333"
      ],
      "text/markdown": [
       "0.833333333333333"
      ],
      "text/plain": [
       "[1] 0.8333333"
      ]
     },
     "metadata": {},
     "output_type": "display_data"
    },
    {
     "data": {
      "text/html": [
       "1.27777777777778"
      ],
      "text/latex": [
       "1.27777777777778"
      ],
      "text/markdown": [
       "1.27777777777778"
      ],
      "text/plain": [
       "[1] 1.277778"
      ]
     },
     "metadata": {},
     "output_type": "display_data"
    },
    {
     "data": {
      "text/html": [
       "1.83333333333333"
      ],
      "text/latex": [
       "1.83333333333333"
      ],
      "text/markdown": [
       "1.83333333333333"
      ],
      "text/plain": [
       "[1] 1.833333"
      ]
     },
     "metadata": {},
     "output_type": "display_data"
    }
   ],
   "source": [
    "#結果用 吉田沙保里の出演するCMのイメージに関するデータ\n",
    "#本当はポケットモンスターシリーズに関する認知に応じて\n",
    "#場合分けができればよかったのだが\n",
    "#ポケットモンスターシリーズに関する認知はデータ数の関係上不問とした.\n",
    "\n",
    "#かっこいい\n",
    "coolY_CM <- c(3,2,2,2,2,2,2,2,1,1,1,1,1,0,0,0,-1,-3)\n",
    "mean(coolY_CM)#かっこいいの平均値\n",
    "\n",
    "#かわいい\n",
    "cuteY_CM <- c(0,0,0,0,0,-1,-1,-1,-1,-1,-1,-1,-1,-2,-2,-2,-2,-3)\n",
    "mean(cuteY_CM)#かわいいの平均値\n",
    "\n",
    "#親しみやすい\n",
    "intimateY_CM <- c(3,2,2,2,2,1,1,1,1,1,1,1,1,0,0,0,-1,-3)\n",
    "mean(intimateY_CM)#親しみやすいの平均値\n",
    "\n",
    "#おもしろい\n",
    "interestingY_CM <- c(3,3,3,2,2,2,2,2,2,2,1,1,1,1,1,0,-2,-3)\n",
    "mean(interestingY_CM)#おもしろいの平均値\n",
    "\n",
    "#たくましい\n",
    "robustY_CM <- c(3,3,3,3,3,3,3,2,2,2,2,2,2,2,2,1,-2,-3)\n",
    "mean(robustY_CM)#たくましいの平均値"
   ]
  },
  {
   "cell_type": "code",
   "execution_count": 3,
   "metadata": {
    "collapsed": false
   },
   "outputs": [
    {
     "data": {
      "text/html": [
       "2.38461538461538"
      ],
      "text/latex": [
       "2.38461538461538"
      ],
      "text/markdown": [
       "2.38461538461538"
      ],
      "text/plain": [
       "[1] 2.384615"
      ]
     },
     "metadata": {},
     "output_type": "display_data"
    },
    {
     "data": {
      "text/html": [
       "-1.76923076923077"
      ],
      "text/latex": [
       "-1.76923076923077"
      ],
      "text/markdown": [
       "-1.76923076923077"
      ],
      "text/plain": [
       "[1] -1.769231"
      ]
     },
     "metadata": {},
     "output_type": "display_data"
    },
    {
     "data": {
      "text/html": [
       "0.384615384615385"
      ],
      "text/latex": [
       "0.384615384615385"
      ],
      "text/markdown": [
       "0.384615384615385"
      ],
      "text/plain": [
       "[1] 0.3846154"
      ]
     },
     "metadata": {},
     "output_type": "display_data"
    },
    {
     "data": {
      "text/html": [
       "0.153846153846154"
      ],
      "text/latex": [
       "0.153846153846154"
      ],
      "text/markdown": [
       "0.153846153846154"
      ],
      "text/plain": [
       "[1] 0.1538462"
      ]
     },
     "metadata": {},
     "output_type": "display_data"
    },
    {
     "data": {
      "text/html": [
       "1.69230769230769"
      ],
      "text/latex": [
       "1.69230769230769"
      ],
      "text/markdown": [
       "1.69230769230769"
      ],
      "text/plain": [
       "[1] 1.692308"
      ]
     },
     "metadata": {},
     "output_type": "display_data"
    }
   ],
   "source": [
    "#結果用 田中将大の出演するCMのイメージに関するデータ\n",
    "#本当はポケットモンスターシリーズに関する認知に応じて\n",
    "#場合分けができればよかったのだが\n",
    "#ポケットモンスターシリーズに関する認知はデータ数の関係上不問とした.\n",
    "\n",
    "#かっこいい\n",
    "coolT_CM <- c(3,3,3,3,3,3,2,2,2,2,2,2,1)\n",
    "mean(coolT_CM)#かっこいいの平均値\n",
    "\n",
    "#かわいい\n",
    "cuteT_CM <- c(0,-1,-1,-1,-2,-2,-2,-2,-2,-2,-2,-3,-3)\n",
    "mean(cuteT_CM)#かわいいの平均値\n",
    "\n",
    "#親しみやすい\n",
    "intimateT_CM <- c(1,1,1,1,1,1,0,0,0,0,0,0,-1)\n",
    "mean(intimateT_CM)#親しみやすいの平均値\n",
    "\n",
    "#おもしろい\n",
    "interestingT_CM <- c(2,2,1,0,0,0,0,0,0,0,0,-1,-2)\n",
    "mean(interestingT_CM)#おもしろいの平均値\n",
    "\n",
    "#たくましい\n",
    "robustT_CM <- c(3,3,2,2,2,2,2,2,2,1,1,0,0)\n",
    "mean(robustT_CM)#たくましいの平均値"
   ]
  },
  {
   "cell_type": "code",
   "execution_count": 2,
   "metadata": {
    "collapsed": false
   },
   "outputs": [
    {
     "data": {
      "text/html": [
       "-0.388888888888889"
      ],
      "text/latex": [
       "-0.388888888888889"
      ],
      "text/markdown": [
       "-0.388888888888889"
      ],
      "text/plain": [
       "[1] -0.3888889"
      ]
     },
     "metadata": {},
     "output_type": "display_data"
    },
    {
     "data": {
      "text/html": [
       "-0.555555555555556"
      ],
      "text/latex": [
       "-0.555555555555556"
      ],
      "text/markdown": [
       "-0.555555555555556"
      ],
      "text/plain": [
       "[1] -0.5555556"
      ]
     },
     "metadata": {},
     "output_type": "display_data"
    },
    {
     "data": {
      "text/html": [
       "1.44444444444444"
      ],
      "text/latex": [
       "1.44444444444444"
      ],
      "text/markdown": [
       "1.44444444444444"
      ],
      "text/plain": [
       "[1] 1.444444"
      ]
     },
     "metadata": {},
     "output_type": "display_data"
    },
    {
     "data": {
      "text/html": [
       "1.44444444444444"
      ],
      "text/latex": [
       "1.44444444444444"
      ],
      "text/markdown": [
       "1.44444444444444"
      ],
      "text/plain": [
       "[1] 1.444444"
      ]
     },
     "metadata": {},
     "output_type": "display_data"
    },
    {
     "data": {
      "text/html": [
       "-0.277777777777778"
      ],
      "text/latex": [
       "-0.277777777777778"
      ],
      "text/markdown": [
       "-0.277777777777778"
      ],
      "text/plain": [
       "[1] -0.2777778"
      ]
     },
     "metadata": {},
     "output_type": "display_data"
    }
   ],
   "source": [
    "#結果用 イモトアヤコの出演するCMのイメージに関するデータ\n",
    "#本当はポケットモンスターシリーズに関する認知に応じて\n",
    "#場合分けができればよかったのだが\n",
    "#ポケットモンスターシリーズに関する認知はデータ数の関係上不問とした.\n",
    "\n",
    "#かっこいい\n",
    "coolI_CM <- c(2,1,1,0,0,0,0,0,0,-1,-1,-1,-1,-1,-1,-1,-2,-2)\n",
    "mean(coolI_CM)#かっこいいの平均値\n",
    "\n",
    "#かわいい\n",
    "cuteI_CM <- c(2,1,0,0,0,0,0,0,-1,-1,-1,-1,-1,-1,-1,-1,-2,-3)\n",
    "mean(cuteI_CM)#かわいいの平均値\n",
    "\n",
    "#親しみやすい\n",
    "intimateI_CM <- c(3,2,2,2,2,2,2,2,2,2,2,2,1,1,1,1,0,-3)\n",
    "mean(intimateI_CM)#親しみやすいの平均値\n",
    "\n",
    "#おもしろい\n",
    "interestingI_CM <- c(3,3,2,2,2,2,2,2,2,2,2,1,1,1,1,1,0,-3)\n",
    "mean(interestingI_CM)#おもしろいの平均値\n",
    "\n",
    "#たくましい\n",
    "robustI_CM <- c(2,1,0,0,0,0,0,0,0,0,0,0,-1,-1,-1,-1,-2,-2)\n",
    "mean(robustI_CM)#たくましいの平均値"
   ]
  }
 ],
 "metadata": {
  "kernelspec": {
   "display_name": "R",
   "language": "R",
   "name": "ir"
  },
  "language_info": {
   "codemirror_mode": "r",
   "file_extension": ".r",
   "mimetype": "text/x-r-source",
   "name": "R",
   "pygments_lexer": "r",
   "version": "3.3.2"
  }
 },
 "nbformat": 4,
 "nbformat_minor": 2
}
